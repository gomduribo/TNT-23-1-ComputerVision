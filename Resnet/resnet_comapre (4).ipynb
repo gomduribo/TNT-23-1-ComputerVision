{
  "nbformat": 4,
  "nbformat_minor": 0,
  "metadata": {
    "colab": {
      "provenance": [],
      "collapsed_sections": [
        "4sDtj4VPdK5J",
        "6GDsG3dtdM66",
        "q7DrKnyOdP9T",
        "YWWUJHfFe_76"
      ]
    },
    "kernelspec": {
      "name": "python3",
      "display_name": "Python 3"
    },
    "language_info": {
      "name": "python"
    },
    "gpuClass": "standard",
    "widgets": {
      "application/vnd.jupyter.widget-state+json": {
        "cf975e54db994990acf1c5a40db89ed7": {
          "model_module": "@jupyter-widgets/controls",
          "model_name": "HBoxModel",
          "model_module_version": "1.5.0",
          "state": {
            "_dom_classes": [],
            "_model_module": "@jupyter-widgets/controls",
            "_model_module_version": "1.5.0",
            "_model_name": "HBoxModel",
            "_view_count": null,
            "_view_module": "@jupyter-widgets/controls",
            "_view_module_version": "1.5.0",
            "_view_name": "HBoxView",
            "box_style": "",
            "children": [
              "IPY_MODEL_e07814695bef41bda12e3f5bb27ae343",
              "IPY_MODEL_7acbf1ae56d6476aaa7fafc164929e64",
              "IPY_MODEL_ba5c3fa6385748888827a414a8b35d13"
            ],
            "layout": "IPY_MODEL_ddd77f4ac43b4e14a5ed1843423c11c5"
          }
        },
        "e07814695bef41bda12e3f5bb27ae343": {
          "model_module": "@jupyter-widgets/controls",
          "model_name": "HTMLModel",
          "model_module_version": "1.5.0",
          "state": {
            "_dom_classes": [],
            "_model_module": "@jupyter-widgets/controls",
            "_model_module_version": "1.5.0",
            "_model_name": "HTMLModel",
            "_view_count": null,
            "_view_module": "@jupyter-widgets/controls",
            "_view_module_version": "1.5.0",
            "_view_name": "HTMLView",
            "description": "",
            "description_tooltip": null,
            "layout": "IPY_MODEL_a2f049be01ad40d1b8e7d5e8df627068",
            "placeholder": "​",
            "style": "IPY_MODEL_e6e22a898e234cd39f341fa99f4e4b2b",
            "value": "100%"
          }
        },
        "7acbf1ae56d6476aaa7fafc164929e64": {
          "model_module": "@jupyter-widgets/controls",
          "model_name": "FloatProgressModel",
          "model_module_version": "1.5.0",
          "state": {
            "_dom_classes": [],
            "_model_module": "@jupyter-widgets/controls",
            "_model_module_version": "1.5.0",
            "_model_name": "FloatProgressModel",
            "_view_count": null,
            "_view_module": "@jupyter-widgets/controls",
            "_view_module_version": "1.5.0",
            "_view_name": "ProgressView",
            "bar_style": "success",
            "description": "",
            "description_tooltip": null,
            "layout": "IPY_MODEL_b0185ee5f9f4472b97f6ce4f85fbdff4",
            "max": 9912422,
            "min": 0,
            "orientation": "horizontal",
            "style": "IPY_MODEL_49a5cedbf6a940ceb2e8cc2f8c6b3dd5",
            "value": 9912422
          }
        },
        "ba5c3fa6385748888827a414a8b35d13": {
          "model_module": "@jupyter-widgets/controls",
          "model_name": "HTMLModel",
          "model_module_version": "1.5.0",
          "state": {
            "_dom_classes": [],
            "_model_module": "@jupyter-widgets/controls",
            "_model_module_version": "1.5.0",
            "_model_name": "HTMLModel",
            "_view_count": null,
            "_view_module": "@jupyter-widgets/controls",
            "_view_module_version": "1.5.0",
            "_view_name": "HTMLView",
            "description": "",
            "description_tooltip": null,
            "layout": "IPY_MODEL_cf1244daa5da4991a79854bb0fe60427",
            "placeholder": "​",
            "style": "IPY_MODEL_a99a15dcb5ae4385bf2dc4f54323882d",
            "value": " 9912422/9912422 [00:00&lt;00:00, 185978641.31it/s]"
          }
        },
        "ddd77f4ac43b4e14a5ed1843423c11c5": {
          "model_module": "@jupyter-widgets/base",
          "model_name": "LayoutModel",
          "model_module_version": "1.2.0",
          "state": {
            "_model_module": "@jupyter-widgets/base",
            "_model_module_version": "1.2.0",
            "_model_name": "LayoutModel",
            "_view_count": null,
            "_view_module": "@jupyter-widgets/base",
            "_view_module_version": "1.2.0",
            "_view_name": "LayoutView",
            "align_content": null,
            "align_items": null,
            "align_self": null,
            "border": null,
            "bottom": null,
            "display": null,
            "flex": null,
            "flex_flow": null,
            "grid_area": null,
            "grid_auto_columns": null,
            "grid_auto_flow": null,
            "grid_auto_rows": null,
            "grid_column": null,
            "grid_gap": null,
            "grid_row": null,
            "grid_template_areas": null,
            "grid_template_columns": null,
            "grid_template_rows": null,
            "height": null,
            "justify_content": null,
            "justify_items": null,
            "left": null,
            "margin": null,
            "max_height": null,
            "max_width": null,
            "min_height": null,
            "min_width": null,
            "object_fit": null,
            "object_position": null,
            "order": null,
            "overflow": null,
            "overflow_x": null,
            "overflow_y": null,
            "padding": null,
            "right": null,
            "top": null,
            "visibility": null,
            "width": null
          }
        },
        "a2f049be01ad40d1b8e7d5e8df627068": {
          "model_module": "@jupyter-widgets/base",
          "model_name": "LayoutModel",
          "model_module_version": "1.2.0",
          "state": {
            "_model_module": "@jupyter-widgets/base",
            "_model_module_version": "1.2.0",
            "_model_name": "LayoutModel",
            "_view_count": null,
            "_view_module": "@jupyter-widgets/base",
            "_view_module_version": "1.2.0",
            "_view_name": "LayoutView",
            "align_content": null,
            "align_items": null,
            "align_self": null,
            "border": null,
            "bottom": null,
            "display": null,
            "flex": null,
            "flex_flow": null,
            "grid_area": null,
            "grid_auto_columns": null,
            "grid_auto_flow": null,
            "grid_auto_rows": null,
            "grid_column": null,
            "grid_gap": null,
            "grid_row": null,
            "grid_template_areas": null,
            "grid_template_columns": null,
            "grid_template_rows": null,
            "height": null,
            "justify_content": null,
            "justify_items": null,
            "left": null,
            "margin": null,
            "max_height": null,
            "max_width": null,
            "min_height": null,
            "min_width": null,
            "object_fit": null,
            "object_position": null,
            "order": null,
            "overflow": null,
            "overflow_x": null,
            "overflow_y": null,
            "padding": null,
            "right": null,
            "top": null,
            "visibility": null,
            "width": null
          }
        },
        "e6e22a898e234cd39f341fa99f4e4b2b": {
          "model_module": "@jupyter-widgets/controls",
          "model_name": "DescriptionStyleModel",
          "model_module_version": "1.5.0",
          "state": {
            "_model_module": "@jupyter-widgets/controls",
            "_model_module_version": "1.5.0",
            "_model_name": "DescriptionStyleModel",
            "_view_count": null,
            "_view_module": "@jupyter-widgets/base",
            "_view_module_version": "1.2.0",
            "_view_name": "StyleView",
            "description_width": ""
          }
        },
        "b0185ee5f9f4472b97f6ce4f85fbdff4": {
          "model_module": "@jupyter-widgets/base",
          "model_name": "LayoutModel",
          "model_module_version": "1.2.0",
          "state": {
            "_model_module": "@jupyter-widgets/base",
            "_model_module_version": "1.2.0",
            "_model_name": "LayoutModel",
            "_view_count": null,
            "_view_module": "@jupyter-widgets/base",
            "_view_module_version": "1.2.0",
            "_view_name": "LayoutView",
            "align_content": null,
            "align_items": null,
            "align_self": null,
            "border": null,
            "bottom": null,
            "display": null,
            "flex": null,
            "flex_flow": null,
            "grid_area": null,
            "grid_auto_columns": null,
            "grid_auto_flow": null,
            "grid_auto_rows": null,
            "grid_column": null,
            "grid_gap": null,
            "grid_row": null,
            "grid_template_areas": null,
            "grid_template_columns": null,
            "grid_template_rows": null,
            "height": null,
            "justify_content": null,
            "justify_items": null,
            "left": null,
            "margin": null,
            "max_height": null,
            "max_width": null,
            "min_height": null,
            "min_width": null,
            "object_fit": null,
            "object_position": null,
            "order": null,
            "overflow": null,
            "overflow_x": null,
            "overflow_y": null,
            "padding": null,
            "right": null,
            "top": null,
            "visibility": null,
            "width": null
          }
        },
        "49a5cedbf6a940ceb2e8cc2f8c6b3dd5": {
          "model_module": "@jupyter-widgets/controls",
          "model_name": "ProgressStyleModel",
          "model_module_version": "1.5.0",
          "state": {
            "_model_module": "@jupyter-widgets/controls",
            "_model_module_version": "1.5.0",
            "_model_name": "ProgressStyleModel",
            "_view_count": null,
            "_view_module": "@jupyter-widgets/base",
            "_view_module_version": "1.2.0",
            "_view_name": "StyleView",
            "bar_color": null,
            "description_width": ""
          }
        },
        "cf1244daa5da4991a79854bb0fe60427": {
          "model_module": "@jupyter-widgets/base",
          "model_name": "LayoutModel",
          "model_module_version": "1.2.0",
          "state": {
            "_model_module": "@jupyter-widgets/base",
            "_model_module_version": "1.2.0",
            "_model_name": "LayoutModel",
            "_view_count": null,
            "_view_module": "@jupyter-widgets/base",
            "_view_module_version": "1.2.0",
            "_view_name": "LayoutView",
            "align_content": null,
            "align_items": null,
            "align_self": null,
            "border": null,
            "bottom": null,
            "display": null,
            "flex": null,
            "flex_flow": null,
            "grid_area": null,
            "grid_auto_columns": null,
            "grid_auto_flow": null,
            "grid_auto_rows": null,
            "grid_column": null,
            "grid_gap": null,
            "grid_row": null,
            "grid_template_areas": null,
            "grid_template_columns": null,
            "grid_template_rows": null,
            "height": null,
            "justify_content": null,
            "justify_items": null,
            "left": null,
            "margin": null,
            "max_height": null,
            "max_width": null,
            "min_height": null,
            "min_width": null,
            "object_fit": null,
            "object_position": null,
            "order": null,
            "overflow": null,
            "overflow_x": null,
            "overflow_y": null,
            "padding": null,
            "right": null,
            "top": null,
            "visibility": null,
            "width": null
          }
        },
        "a99a15dcb5ae4385bf2dc4f54323882d": {
          "model_module": "@jupyter-widgets/controls",
          "model_name": "DescriptionStyleModel",
          "model_module_version": "1.5.0",
          "state": {
            "_model_module": "@jupyter-widgets/controls",
            "_model_module_version": "1.5.0",
            "_model_name": "DescriptionStyleModel",
            "_view_count": null,
            "_view_module": "@jupyter-widgets/base",
            "_view_module_version": "1.2.0",
            "_view_name": "StyleView",
            "description_width": ""
          }
        },
        "411332823a8e46c9818df92b09c12c73": {
          "model_module": "@jupyter-widgets/controls",
          "model_name": "HBoxModel",
          "model_module_version": "1.5.0",
          "state": {
            "_dom_classes": [],
            "_model_module": "@jupyter-widgets/controls",
            "_model_module_version": "1.5.0",
            "_model_name": "HBoxModel",
            "_view_count": null,
            "_view_module": "@jupyter-widgets/controls",
            "_view_module_version": "1.5.0",
            "_view_name": "HBoxView",
            "box_style": "",
            "children": [
              "IPY_MODEL_379b9b74233b4a6fbb798918373cc4f5",
              "IPY_MODEL_266dc0aaac4e4847898c83d7c75660a0",
              "IPY_MODEL_e8e6285fc5c9454f858099baaadfe9d2"
            ],
            "layout": "IPY_MODEL_111fe7bc77f34966943d30689c760a13"
          }
        },
        "379b9b74233b4a6fbb798918373cc4f5": {
          "model_module": "@jupyter-widgets/controls",
          "model_name": "HTMLModel",
          "model_module_version": "1.5.0",
          "state": {
            "_dom_classes": [],
            "_model_module": "@jupyter-widgets/controls",
            "_model_module_version": "1.5.0",
            "_model_name": "HTMLModel",
            "_view_count": null,
            "_view_module": "@jupyter-widgets/controls",
            "_view_module_version": "1.5.0",
            "_view_name": "HTMLView",
            "description": "",
            "description_tooltip": null,
            "layout": "IPY_MODEL_5a224764ea8c4cfab9417561ea6242a5",
            "placeholder": "​",
            "style": "IPY_MODEL_856627045d7748de88bde2b205a9fd86",
            "value": "100%"
          }
        },
        "266dc0aaac4e4847898c83d7c75660a0": {
          "model_module": "@jupyter-widgets/controls",
          "model_name": "FloatProgressModel",
          "model_module_version": "1.5.0",
          "state": {
            "_dom_classes": [],
            "_model_module": "@jupyter-widgets/controls",
            "_model_module_version": "1.5.0",
            "_model_name": "FloatProgressModel",
            "_view_count": null,
            "_view_module": "@jupyter-widgets/controls",
            "_view_module_version": "1.5.0",
            "_view_name": "ProgressView",
            "bar_style": "success",
            "description": "",
            "description_tooltip": null,
            "layout": "IPY_MODEL_3a8c123843e9443bae35b6102a63a062",
            "max": 28881,
            "min": 0,
            "orientation": "horizontal",
            "style": "IPY_MODEL_bc35038bc2a44c8ea29e23aec895ed66",
            "value": 28881
          }
        },
        "e8e6285fc5c9454f858099baaadfe9d2": {
          "model_module": "@jupyter-widgets/controls",
          "model_name": "HTMLModel",
          "model_module_version": "1.5.0",
          "state": {
            "_dom_classes": [],
            "_model_module": "@jupyter-widgets/controls",
            "_model_module_version": "1.5.0",
            "_model_name": "HTMLModel",
            "_view_count": null,
            "_view_module": "@jupyter-widgets/controls",
            "_view_module_version": "1.5.0",
            "_view_name": "HTMLView",
            "description": "",
            "description_tooltip": null,
            "layout": "IPY_MODEL_c3b5db77ec6541c0a9cc831fd9b01b5d",
            "placeholder": "​",
            "style": "IPY_MODEL_a2f1f14149e64de88e20d8b1e6163d8d",
            "value": " 28881/28881 [00:00&lt;00:00, 1862623.11it/s]"
          }
        },
        "111fe7bc77f34966943d30689c760a13": {
          "model_module": "@jupyter-widgets/base",
          "model_name": "LayoutModel",
          "model_module_version": "1.2.0",
          "state": {
            "_model_module": "@jupyter-widgets/base",
            "_model_module_version": "1.2.0",
            "_model_name": "LayoutModel",
            "_view_count": null,
            "_view_module": "@jupyter-widgets/base",
            "_view_module_version": "1.2.0",
            "_view_name": "LayoutView",
            "align_content": null,
            "align_items": null,
            "align_self": null,
            "border": null,
            "bottom": null,
            "display": null,
            "flex": null,
            "flex_flow": null,
            "grid_area": null,
            "grid_auto_columns": null,
            "grid_auto_flow": null,
            "grid_auto_rows": null,
            "grid_column": null,
            "grid_gap": null,
            "grid_row": null,
            "grid_template_areas": null,
            "grid_template_columns": null,
            "grid_template_rows": null,
            "height": null,
            "justify_content": null,
            "justify_items": null,
            "left": null,
            "margin": null,
            "max_height": null,
            "max_width": null,
            "min_height": null,
            "min_width": null,
            "object_fit": null,
            "object_position": null,
            "order": null,
            "overflow": null,
            "overflow_x": null,
            "overflow_y": null,
            "padding": null,
            "right": null,
            "top": null,
            "visibility": null,
            "width": null
          }
        },
        "5a224764ea8c4cfab9417561ea6242a5": {
          "model_module": "@jupyter-widgets/base",
          "model_name": "LayoutModel",
          "model_module_version": "1.2.0",
          "state": {
            "_model_module": "@jupyter-widgets/base",
            "_model_module_version": "1.2.0",
            "_model_name": "LayoutModel",
            "_view_count": null,
            "_view_module": "@jupyter-widgets/base",
            "_view_module_version": "1.2.0",
            "_view_name": "LayoutView",
            "align_content": null,
            "align_items": null,
            "align_self": null,
            "border": null,
            "bottom": null,
            "display": null,
            "flex": null,
            "flex_flow": null,
            "grid_area": null,
            "grid_auto_columns": null,
            "grid_auto_flow": null,
            "grid_auto_rows": null,
            "grid_column": null,
            "grid_gap": null,
            "grid_row": null,
            "grid_template_areas": null,
            "grid_template_columns": null,
            "grid_template_rows": null,
            "height": null,
            "justify_content": null,
            "justify_items": null,
            "left": null,
            "margin": null,
            "max_height": null,
            "max_width": null,
            "min_height": null,
            "min_width": null,
            "object_fit": null,
            "object_position": null,
            "order": null,
            "overflow": null,
            "overflow_x": null,
            "overflow_y": null,
            "padding": null,
            "right": null,
            "top": null,
            "visibility": null,
            "width": null
          }
        },
        "856627045d7748de88bde2b205a9fd86": {
          "model_module": "@jupyter-widgets/controls",
          "model_name": "DescriptionStyleModel",
          "model_module_version": "1.5.0",
          "state": {
            "_model_module": "@jupyter-widgets/controls",
            "_model_module_version": "1.5.0",
            "_model_name": "DescriptionStyleModel",
            "_view_count": null,
            "_view_module": "@jupyter-widgets/base",
            "_view_module_version": "1.2.0",
            "_view_name": "StyleView",
            "description_width": ""
          }
        },
        "3a8c123843e9443bae35b6102a63a062": {
          "model_module": "@jupyter-widgets/base",
          "model_name": "LayoutModel",
          "model_module_version": "1.2.0",
          "state": {
            "_model_module": "@jupyter-widgets/base",
            "_model_module_version": "1.2.0",
            "_model_name": "LayoutModel",
            "_view_count": null,
            "_view_module": "@jupyter-widgets/base",
            "_view_module_version": "1.2.0",
            "_view_name": "LayoutView",
            "align_content": null,
            "align_items": null,
            "align_self": null,
            "border": null,
            "bottom": null,
            "display": null,
            "flex": null,
            "flex_flow": null,
            "grid_area": null,
            "grid_auto_columns": null,
            "grid_auto_flow": null,
            "grid_auto_rows": null,
            "grid_column": null,
            "grid_gap": null,
            "grid_row": null,
            "grid_template_areas": null,
            "grid_template_columns": null,
            "grid_template_rows": null,
            "height": null,
            "justify_content": null,
            "justify_items": null,
            "left": null,
            "margin": null,
            "max_height": null,
            "max_width": null,
            "min_height": null,
            "min_width": null,
            "object_fit": null,
            "object_position": null,
            "order": null,
            "overflow": null,
            "overflow_x": null,
            "overflow_y": null,
            "padding": null,
            "right": null,
            "top": null,
            "visibility": null,
            "width": null
          }
        },
        "bc35038bc2a44c8ea29e23aec895ed66": {
          "model_module": "@jupyter-widgets/controls",
          "model_name": "ProgressStyleModel",
          "model_module_version": "1.5.0",
          "state": {
            "_model_module": "@jupyter-widgets/controls",
            "_model_module_version": "1.5.0",
            "_model_name": "ProgressStyleModel",
            "_view_count": null,
            "_view_module": "@jupyter-widgets/base",
            "_view_module_version": "1.2.0",
            "_view_name": "StyleView",
            "bar_color": null,
            "description_width": ""
          }
        },
        "c3b5db77ec6541c0a9cc831fd9b01b5d": {
          "model_module": "@jupyter-widgets/base",
          "model_name": "LayoutModel",
          "model_module_version": "1.2.0",
          "state": {
            "_model_module": "@jupyter-widgets/base",
            "_model_module_version": "1.2.0",
            "_model_name": "LayoutModel",
            "_view_count": null,
            "_view_module": "@jupyter-widgets/base",
            "_view_module_version": "1.2.0",
            "_view_name": "LayoutView",
            "align_content": null,
            "align_items": null,
            "align_self": null,
            "border": null,
            "bottom": null,
            "display": null,
            "flex": null,
            "flex_flow": null,
            "grid_area": null,
            "grid_auto_columns": null,
            "grid_auto_flow": null,
            "grid_auto_rows": null,
            "grid_column": null,
            "grid_gap": null,
            "grid_row": null,
            "grid_template_areas": null,
            "grid_template_columns": null,
            "grid_template_rows": null,
            "height": null,
            "justify_content": null,
            "justify_items": null,
            "left": null,
            "margin": null,
            "max_height": null,
            "max_width": null,
            "min_height": null,
            "min_width": null,
            "object_fit": null,
            "object_position": null,
            "order": null,
            "overflow": null,
            "overflow_x": null,
            "overflow_y": null,
            "padding": null,
            "right": null,
            "top": null,
            "visibility": null,
            "width": null
          }
        },
        "a2f1f14149e64de88e20d8b1e6163d8d": {
          "model_module": "@jupyter-widgets/controls",
          "model_name": "DescriptionStyleModel",
          "model_module_version": "1.5.0",
          "state": {
            "_model_module": "@jupyter-widgets/controls",
            "_model_module_version": "1.5.0",
            "_model_name": "DescriptionStyleModel",
            "_view_count": null,
            "_view_module": "@jupyter-widgets/base",
            "_view_module_version": "1.2.0",
            "_view_name": "StyleView",
            "description_width": ""
          }
        },
        "095174f1c6124bbba55fc8e5415d288a": {
          "model_module": "@jupyter-widgets/controls",
          "model_name": "HBoxModel",
          "model_module_version": "1.5.0",
          "state": {
            "_dom_classes": [],
            "_model_module": "@jupyter-widgets/controls",
            "_model_module_version": "1.5.0",
            "_model_name": "HBoxModel",
            "_view_count": null,
            "_view_module": "@jupyter-widgets/controls",
            "_view_module_version": "1.5.0",
            "_view_name": "HBoxView",
            "box_style": "",
            "children": [
              "IPY_MODEL_de43460b8ce342629de61deaed27c03a",
              "IPY_MODEL_1a241a34ec5b4627a55ff43e7e5582d8",
              "IPY_MODEL_641ca5530d43484fb3760ac810eac2c3"
            ],
            "layout": "IPY_MODEL_f72626bb9e434283bf95b1b9c5f96315"
          }
        },
        "de43460b8ce342629de61deaed27c03a": {
          "model_module": "@jupyter-widgets/controls",
          "model_name": "HTMLModel",
          "model_module_version": "1.5.0",
          "state": {
            "_dom_classes": [],
            "_model_module": "@jupyter-widgets/controls",
            "_model_module_version": "1.5.0",
            "_model_name": "HTMLModel",
            "_view_count": null,
            "_view_module": "@jupyter-widgets/controls",
            "_view_module_version": "1.5.0",
            "_view_name": "HTMLView",
            "description": "",
            "description_tooltip": null,
            "layout": "IPY_MODEL_c4205416fe1a4b8499170d086ef91185",
            "placeholder": "​",
            "style": "IPY_MODEL_c3fafe760d76431a8ac217c83b420953",
            "value": "100%"
          }
        },
        "1a241a34ec5b4627a55ff43e7e5582d8": {
          "model_module": "@jupyter-widgets/controls",
          "model_name": "FloatProgressModel",
          "model_module_version": "1.5.0",
          "state": {
            "_dom_classes": [],
            "_model_module": "@jupyter-widgets/controls",
            "_model_module_version": "1.5.0",
            "_model_name": "FloatProgressModel",
            "_view_count": null,
            "_view_module": "@jupyter-widgets/controls",
            "_view_module_version": "1.5.0",
            "_view_name": "ProgressView",
            "bar_style": "success",
            "description": "",
            "description_tooltip": null,
            "layout": "IPY_MODEL_427ab2fc95ab4e66bec497d80c673a57",
            "max": 1648877,
            "min": 0,
            "orientation": "horizontal",
            "style": "IPY_MODEL_ff15d7cfc303431d930bc02e9a2506ab",
            "value": 1648877
          }
        },
        "641ca5530d43484fb3760ac810eac2c3": {
          "model_module": "@jupyter-widgets/controls",
          "model_name": "HTMLModel",
          "model_module_version": "1.5.0",
          "state": {
            "_dom_classes": [],
            "_model_module": "@jupyter-widgets/controls",
            "_model_module_version": "1.5.0",
            "_model_name": "HTMLModel",
            "_view_count": null,
            "_view_module": "@jupyter-widgets/controls",
            "_view_module_version": "1.5.0",
            "_view_name": "HTMLView",
            "description": "",
            "description_tooltip": null,
            "layout": "IPY_MODEL_2bfa88e35a5b4d61a67f5d5caf7adbd7",
            "placeholder": "​",
            "style": "IPY_MODEL_d4c5bc065b364740bd4471de50f45930",
            "value": " 1648877/1648877 [00:00&lt;00:00, 51227307.31it/s]"
          }
        },
        "f72626bb9e434283bf95b1b9c5f96315": {
          "model_module": "@jupyter-widgets/base",
          "model_name": "LayoutModel",
          "model_module_version": "1.2.0",
          "state": {
            "_model_module": "@jupyter-widgets/base",
            "_model_module_version": "1.2.0",
            "_model_name": "LayoutModel",
            "_view_count": null,
            "_view_module": "@jupyter-widgets/base",
            "_view_module_version": "1.2.0",
            "_view_name": "LayoutView",
            "align_content": null,
            "align_items": null,
            "align_self": null,
            "border": null,
            "bottom": null,
            "display": null,
            "flex": null,
            "flex_flow": null,
            "grid_area": null,
            "grid_auto_columns": null,
            "grid_auto_flow": null,
            "grid_auto_rows": null,
            "grid_column": null,
            "grid_gap": null,
            "grid_row": null,
            "grid_template_areas": null,
            "grid_template_columns": null,
            "grid_template_rows": null,
            "height": null,
            "justify_content": null,
            "justify_items": null,
            "left": null,
            "margin": null,
            "max_height": null,
            "max_width": null,
            "min_height": null,
            "min_width": null,
            "object_fit": null,
            "object_position": null,
            "order": null,
            "overflow": null,
            "overflow_x": null,
            "overflow_y": null,
            "padding": null,
            "right": null,
            "top": null,
            "visibility": null,
            "width": null
          }
        },
        "c4205416fe1a4b8499170d086ef91185": {
          "model_module": "@jupyter-widgets/base",
          "model_name": "LayoutModel",
          "model_module_version": "1.2.0",
          "state": {
            "_model_module": "@jupyter-widgets/base",
            "_model_module_version": "1.2.0",
            "_model_name": "LayoutModel",
            "_view_count": null,
            "_view_module": "@jupyter-widgets/base",
            "_view_module_version": "1.2.0",
            "_view_name": "LayoutView",
            "align_content": null,
            "align_items": null,
            "align_self": null,
            "border": null,
            "bottom": null,
            "display": null,
            "flex": null,
            "flex_flow": null,
            "grid_area": null,
            "grid_auto_columns": null,
            "grid_auto_flow": null,
            "grid_auto_rows": null,
            "grid_column": null,
            "grid_gap": null,
            "grid_row": null,
            "grid_template_areas": null,
            "grid_template_columns": null,
            "grid_template_rows": null,
            "height": null,
            "justify_content": null,
            "justify_items": null,
            "left": null,
            "margin": null,
            "max_height": null,
            "max_width": null,
            "min_height": null,
            "min_width": null,
            "object_fit": null,
            "object_position": null,
            "order": null,
            "overflow": null,
            "overflow_x": null,
            "overflow_y": null,
            "padding": null,
            "right": null,
            "top": null,
            "visibility": null,
            "width": null
          }
        },
        "c3fafe760d76431a8ac217c83b420953": {
          "model_module": "@jupyter-widgets/controls",
          "model_name": "DescriptionStyleModel",
          "model_module_version": "1.5.0",
          "state": {
            "_model_module": "@jupyter-widgets/controls",
            "_model_module_version": "1.5.0",
            "_model_name": "DescriptionStyleModel",
            "_view_count": null,
            "_view_module": "@jupyter-widgets/base",
            "_view_module_version": "1.2.0",
            "_view_name": "StyleView",
            "description_width": ""
          }
        },
        "427ab2fc95ab4e66bec497d80c673a57": {
          "model_module": "@jupyter-widgets/base",
          "model_name": "LayoutModel",
          "model_module_version": "1.2.0",
          "state": {
            "_model_module": "@jupyter-widgets/base",
            "_model_module_version": "1.2.0",
            "_model_name": "LayoutModel",
            "_view_count": null,
            "_view_module": "@jupyter-widgets/base",
            "_view_module_version": "1.2.0",
            "_view_name": "LayoutView",
            "align_content": null,
            "align_items": null,
            "align_self": null,
            "border": null,
            "bottom": null,
            "display": null,
            "flex": null,
            "flex_flow": null,
            "grid_area": null,
            "grid_auto_columns": null,
            "grid_auto_flow": null,
            "grid_auto_rows": null,
            "grid_column": null,
            "grid_gap": null,
            "grid_row": null,
            "grid_template_areas": null,
            "grid_template_columns": null,
            "grid_template_rows": null,
            "height": null,
            "justify_content": null,
            "justify_items": null,
            "left": null,
            "margin": null,
            "max_height": null,
            "max_width": null,
            "min_height": null,
            "min_width": null,
            "object_fit": null,
            "object_position": null,
            "order": null,
            "overflow": null,
            "overflow_x": null,
            "overflow_y": null,
            "padding": null,
            "right": null,
            "top": null,
            "visibility": null,
            "width": null
          }
        },
        "ff15d7cfc303431d930bc02e9a2506ab": {
          "model_module": "@jupyter-widgets/controls",
          "model_name": "ProgressStyleModel",
          "model_module_version": "1.5.0",
          "state": {
            "_model_module": "@jupyter-widgets/controls",
            "_model_module_version": "1.5.0",
            "_model_name": "ProgressStyleModel",
            "_view_count": null,
            "_view_module": "@jupyter-widgets/base",
            "_view_module_version": "1.2.0",
            "_view_name": "StyleView",
            "bar_color": null,
            "description_width": ""
          }
        },
        "2bfa88e35a5b4d61a67f5d5caf7adbd7": {
          "model_module": "@jupyter-widgets/base",
          "model_name": "LayoutModel",
          "model_module_version": "1.2.0",
          "state": {
            "_model_module": "@jupyter-widgets/base",
            "_model_module_version": "1.2.0",
            "_model_name": "LayoutModel",
            "_view_count": null,
            "_view_module": "@jupyter-widgets/base",
            "_view_module_version": "1.2.0",
            "_view_name": "LayoutView",
            "align_content": null,
            "align_items": null,
            "align_self": null,
            "border": null,
            "bottom": null,
            "display": null,
            "flex": null,
            "flex_flow": null,
            "grid_area": null,
            "grid_auto_columns": null,
            "grid_auto_flow": null,
            "grid_auto_rows": null,
            "grid_column": null,
            "grid_gap": null,
            "grid_row": null,
            "grid_template_areas": null,
            "grid_template_columns": null,
            "grid_template_rows": null,
            "height": null,
            "justify_content": null,
            "justify_items": null,
            "left": null,
            "margin": null,
            "max_height": null,
            "max_width": null,
            "min_height": null,
            "min_width": null,
            "object_fit": null,
            "object_position": null,
            "order": null,
            "overflow": null,
            "overflow_x": null,
            "overflow_y": null,
            "padding": null,
            "right": null,
            "top": null,
            "visibility": null,
            "width": null
          }
        },
        "d4c5bc065b364740bd4471de50f45930": {
          "model_module": "@jupyter-widgets/controls",
          "model_name": "DescriptionStyleModel",
          "model_module_version": "1.5.0",
          "state": {
            "_model_module": "@jupyter-widgets/controls",
            "_model_module_version": "1.5.0",
            "_model_name": "DescriptionStyleModel",
            "_view_count": null,
            "_view_module": "@jupyter-widgets/base",
            "_view_module_version": "1.2.0",
            "_view_name": "StyleView",
            "description_width": ""
          }
        },
        "8304e5dd83254e1eb73f3a4175db90fe": {
          "model_module": "@jupyter-widgets/controls",
          "model_name": "HBoxModel",
          "model_module_version": "1.5.0",
          "state": {
            "_dom_classes": [],
            "_model_module": "@jupyter-widgets/controls",
            "_model_module_version": "1.5.0",
            "_model_name": "HBoxModel",
            "_view_count": null,
            "_view_module": "@jupyter-widgets/controls",
            "_view_module_version": "1.5.0",
            "_view_name": "HBoxView",
            "box_style": "",
            "children": [
              "IPY_MODEL_3525a5f1dc7e4d6a9e9a460c5765c72f",
              "IPY_MODEL_8a3a9b50d3c6449e8b4690bebd0bc559",
              "IPY_MODEL_d98b220f9b324394bccdb86438633404"
            ],
            "layout": "IPY_MODEL_569ce87acbbf4f028292a362bb784330"
          }
        },
        "3525a5f1dc7e4d6a9e9a460c5765c72f": {
          "model_module": "@jupyter-widgets/controls",
          "model_name": "HTMLModel",
          "model_module_version": "1.5.0",
          "state": {
            "_dom_classes": [],
            "_model_module": "@jupyter-widgets/controls",
            "_model_module_version": "1.5.0",
            "_model_name": "HTMLModel",
            "_view_count": null,
            "_view_module": "@jupyter-widgets/controls",
            "_view_module_version": "1.5.0",
            "_view_name": "HTMLView",
            "description": "",
            "description_tooltip": null,
            "layout": "IPY_MODEL_de8461024c6c462395f485f0c1d2ad09",
            "placeholder": "​",
            "style": "IPY_MODEL_db51f79e972449b4a64b87bf75641fdc",
            "value": "100%"
          }
        },
        "8a3a9b50d3c6449e8b4690bebd0bc559": {
          "model_module": "@jupyter-widgets/controls",
          "model_name": "FloatProgressModel",
          "model_module_version": "1.5.0",
          "state": {
            "_dom_classes": [],
            "_model_module": "@jupyter-widgets/controls",
            "_model_module_version": "1.5.0",
            "_model_name": "FloatProgressModel",
            "_view_count": null,
            "_view_module": "@jupyter-widgets/controls",
            "_view_module_version": "1.5.0",
            "_view_name": "ProgressView",
            "bar_style": "success",
            "description": "",
            "description_tooltip": null,
            "layout": "IPY_MODEL_c9a12f6eaa31495b8042498ab4af71b9",
            "max": 4542,
            "min": 0,
            "orientation": "horizontal",
            "style": "IPY_MODEL_674aeb39d7db4e4fa922b0bb733a1da6",
            "value": 4542
          }
        },
        "d98b220f9b324394bccdb86438633404": {
          "model_module": "@jupyter-widgets/controls",
          "model_name": "HTMLModel",
          "model_module_version": "1.5.0",
          "state": {
            "_dom_classes": [],
            "_model_module": "@jupyter-widgets/controls",
            "_model_module_version": "1.5.0",
            "_model_name": "HTMLModel",
            "_view_count": null,
            "_view_module": "@jupyter-widgets/controls",
            "_view_module_version": "1.5.0",
            "_view_name": "HTMLView",
            "description": "",
            "description_tooltip": null,
            "layout": "IPY_MODEL_52e0e282bf3a481d96ea7ec7d4cdd0e1",
            "placeholder": "​",
            "style": "IPY_MODEL_bfabc7f4ae2847e59b7ea4213a3f7c1b",
            "value": " 4542/4542 [00:00&lt;00:00, 260912.54it/s]"
          }
        },
        "569ce87acbbf4f028292a362bb784330": {
          "model_module": "@jupyter-widgets/base",
          "model_name": "LayoutModel",
          "model_module_version": "1.2.0",
          "state": {
            "_model_module": "@jupyter-widgets/base",
            "_model_module_version": "1.2.0",
            "_model_name": "LayoutModel",
            "_view_count": null,
            "_view_module": "@jupyter-widgets/base",
            "_view_module_version": "1.2.0",
            "_view_name": "LayoutView",
            "align_content": null,
            "align_items": null,
            "align_self": null,
            "border": null,
            "bottom": null,
            "display": null,
            "flex": null,
            "flex_flow": null,
            "grid_area": null,
            "grid_auto_columns": null,
            "grid_auto_flow": null,
            "grid_auto_rows": null,
            "grid_column": null,
            "grid_gap": null,
            "grid_row": null,
            "grid_template_areas": null,
            "grid_template_columns": null,
            "grid_template_rows": null,
            "height": null,
            "justify_content": null,
            "justify_items": null,
            "left": null,
            "margin": null,
            "max_height": null,
            "max_width": null,
            "min_height": null,
            "min_width": null,
            "object_fit": null,
            "object_position": null,
            "order": null,
            "overflow": null,
            "overflow_x": null,
            "overflow_y": null,
            "padding": null,
            "right": null,
            "top": null,
            "visibility": null,
            "width": null
          }
        },
        "de8461024c6c462395f485f0c1d2ad09": {
          "model_module": "@jupyter-widgets/base",
          "model_name": "LayoutModel",
          "model_module_version": "1.2.0",
          "state": {
            "_model_module": "@jupyter-widgets/base",
            "_model_module_version": "1.2.0",
            "_model_name": "LayoutModel",
            "_view_count": null,
            "_view_module": "@jupyter-widgets/base",
            "_view_module_version": "1.2.0",
            "_view_name": "LayoutView",
            "align_content": null,
            "align_items": null,
            "align_self": null,
            "border": null,
            "bottom": null,
            "display": null,
            "flex": null,
            "flex_flow": null,
            "grid_area": null,
            "grid_auto_columns": null,
            "grid_auto_flow": null,
            "grid_auto_rows": null,
            "grid_column": null,
            "grid_gap": null,
            "grid_row": null,
            "grid_template_areas": null,
            "grid_template_columns": null,
            "grid_template_rows": null,
            "height": null,
            "justify_content": null,
            "justify_items": null,
            "left": null,
            "margin": null,
            "max_height": null,
            "max_width": null,
            "min_height": null,
            "min_width": null,
            "object_fit": null,
            "object_position": null,
            "order": null,
            "overflow": null,
            "overflow_x": null,
            "overflow_y": null,
            "padding": null,
            "right": null,
            "top": null,
            "visibility": null,
            "width": null
          }
        },
        "db51f79e972449b4a64b87bf75641fdc": {
          "model_module": "@jupyter-widgets/controls",
          "model_name": "DescriptionStyleModel",
          "model_module_version": "1.5.0",
          "state": {
            "_model_module": "@jupyter-widgets/controls",
            "_model_module_version": "1.5.0",
            "_model_name": "DescriptionStyleModel",
            "_view_count": null,
            "_view_module": "@jupyter-widgets/base",
            "_view_module_version": "1.2.0",
            "_view_name": "StyleView",
            "description_width": ""
          }
        },
        "c9a12f6eaa31495b8042498ab4af71b9": {
          "model_module": "@jupyter-widgets/base",
          "model_name": "LayoutModel",
          "model_module_version": "1.2.0",
          "state": {
            "_model_module": "@jupyter-widgets/base",
            "_model_module_version": "1.2.0",
            "_model_name": "LayoutModel",
            "_view_count": null,
            "_view_module": "@jupyter-widgets/base",
            "_view_module_version": "1.2.0",
            "_view_name": "LayoutView",
            "align_content": null,
            "align_items": null,
            "align_self": null,
            "border": null,
            "bottom": null,
            "display": null,
            "flex": null,
            "flex_flow": null,
            "grid_area": null,
            "grid_auto_columns": null,
            "grid_auto_flow": null,
            "grid_auto_rows": null,
            "grid_column": null,
            "grid_gap": null,
            "grid_row": null,
            "grid_template_areas": null,
            "grid_template_columns": null,
            "grid_template_rows": null,
            "height": null,
            "justify_content": null,
            "justify_items": null,
            "left": null,
            "margin": null,
            "max_height": null,
            "max_width": null,
            "min_height": null,
            "min_width": null,
            "object_fit": null,
            "object_position": null,
            "order": null,
            "overflow": null,
            "overflow_x": null,
            "overflow_y": null,
            "padding": null,
            "right": null,
            "top": null,
            "visibility": null,
            "width": null
          }
        },
        "674aeb39d7db4e4fa922b0bb733a1da6": {
          "model_module": "@jupyter-widgets/controls",
          "model_name": "ProgressStyleModel",
          "model_module_version": "1.5.0",
          "state": {
            "_model_module": "@jupyter-widgets/controls",
            "_model_module_version": "1.5.0",
            "_model_name": "ProgressStyleModel",
            "_view_count": null,
            "_view_module": "@jupyter-widgets/base",
            "_view_module_version": "1.2.0",
            "_view_name": "StyleView",
            "bar_color": null,
            "description_width": ""
          }
        },
        "52e0e282bf3a481d96ea7ec7d4cdd0e1": {
          "model_module": "@jupyter-widgets/base",
          "model_name": "LayoutModel",
          "model_module_version": "1.2.0",
          "state": {
            "_model_module": "@jupyter-widgets/base",
            "_model_module_version": "1.2.0",
            "_model_name": "LayoutModel",
            "_view_count": null,
            "_view_module": "@jupyter-widgets/base",
            "_view_module_version": "1.2.0",
            "_view_name": "LayoutView",
            "align_content": null,
            "align_items": null,
            "align_self": null,
            "border": null,
            "bottom": null,
            "display": null,
            "flex": null,
            "flex_flow": null,
            "grid_area": null,
            "grid_auto_columns": null,
            "grid_auto_flow": null,
            "grid_auto_rows": null,
            "grid_column": null,
            "grid_gap": null,
            "grid_row": null,
            "grid_template_areas": null,
            "grid_template_columns": null,
            "grid_template_rows": null,
            "height": null,
            "justify_content": null,
            "justify_items": null,
            "left": null,
            "margin": null,
            "max_height": null,
            "max_width": null,
            "min_height": null,
            "min_width": null,
            "object_fit": null,
            "object_position": null,
            "order": null,
            "overflow": null,
            "overflow_x": null,
            "overflow_y": null,
            "padding": null,
            "right": null,
            "top": null,
            "visibility": null,
            "width": null
          }
        },
        "bfabc7f4ae2847e59b7ea4213a3f7c1b": {
          "model_module": "@jupyter-widgets/controls",
          "model_name": "DescriptionStyleModel",
          "model_module_version": "1.5.0",
          "state": {
            "_model_module": "@jupyter-widgets/controls",
            "_model_module_version": "1.5.0",
            "_model_name": "DescriptionStyleModel",
            "_view_count": null,
            "_view_module": "@jupyter-widgets/base",
            "_view_module_version": "1.2.0",
            "_view_name": "StyleView",
            "description_width": ""
          }
        }
      }
    },
    "accelerator": "GPU"
  },
  "cells": [
    {
      "cell_type": "markdown",
      "source": [
        "#code for compare base model, residual model, residual+bottenlock model"
      ],
      "metadata": {
        "id": "8rP39vNpvqVi"
      }
    },
    {
      "cell_type": "markdown",
      "source": [
        "#import module"
      ],
      "metadata": {
        "id": "4sDtj4VPdK5J"
      }
    },
    {
      "cell_type": "code",
      "source": [
        "import torch\n",
        "import torch.nn as nn\n",
        "import numpy as np\n",
        "import pandas as pd\n",
        "import tensorflow as tf\n",
        "import torchvision\n",
        "import torchvision.transforms as transforms\n",
        "\n",
        "# Check if GPU is available\n",
        "device = torch.device('cuda' if torch.cuda.is_available() else 'cpu')"
      ],
      "metadata": {
        "id": "viPvMI3QcMni"
      },
      "execution_count": null,
      "outputs": []
    },
    {
      "cell_type": "markdown",
      "source": [
        "# three blocks for compare"
      ],
      "metadata": {
        "id": "6GDsG3dtdM66"
      }
    },
    {
      "cell_type": "code",
      "execution_count": null,
      "metadata": {
        "id": "HmwXO0GjcFT8"
      },
      "outputs": [],
      "source": [
        "class Residual_Block(nn.Module):\n",
        "    def __init__(self, in_dim, mid_dim, out_dim):\n",
        "        super(Residual_Block,self).__init__()\n",
        "        # Residual Block\n",
        "        self.residual_block = nn.Sequential(\n",
        "                nn.Conv2d(in_dim, mid_dim, kernel_size=3, padding=1),\n",
        "                nn.ReLU(),\n",
        "                nn.Conv2d(mid_dim, out_dim, kernel_size=3, padding=1),\n",
        "            )            \n",
        "        self.relu = nn.ReLU()\n",
        "                  \n",
        "    def forward(self, x):\n",
        "        out = self. residual_block(x)  # F(x)\n",
        "        out = out + x  # F(x) + x\n",
        "        out = self.relu(out)\n",
        "        return out"
      ]
    },
    {
      "cell_type": "code",
      "source": [
        "class Residual_Block_with_bottenlock(nn.Module):\n",
        "    def __init__(self, in_dim, mid_dim, out_dim):\n",
        "        super(Residual_Block_with_bottenlock,self).__init__()\n",
        "        # Residual Block\n",
        "        self.residual_block = nn.Sequential(\n",
        "                nn.Conv2d(in_dim, mid_dim, kernel_size=1),\n",
        "                nn.ReLU(),\n",
        "                nn.Conv2d(mid_dim,mid_dim, kernel_size=3, padding=1),\n",
        "                #nn.ReLu(),\n",
        "                nn.Conv2d(mid_dim, out_dim, kernel_size=1),\n",
        "            )            \n",
        "        self.relu = nn.ReLU()\n",
        "\n",
        "    def forward(self, x):\n",
        "        out = self. residual_block(x)  # F(x)\n",
        "        out = out + x  # F(x) + x\n",
        "        out = self.relu(out)\n",
        "        return out"
      ],
      "metadata": {
        "id": "ac_MYQlTciL1"
      },
      "execution_count": null,
      "outputs": []
    },
    {
      "cell_type": "code",
      "source": [
        "class Base_Block(nn.Module):\n",
        "    def __init__(self, in_dim, mid_dim, out_dim):\n",
        "        super(Base_Block,self).__init__()\n",
        "        # Residual Block\n",
        "        self.residual_block = nn.Sequential(\n",
        "                nn.Conv2d(in_dim, mid_dim, kernel_size=3, padding=1),\n",
        "                nn.ReLU(),\n",
        "                nn.Conv2d(mid_dim, out_dim, kernel_size=3, padding=1),\n",
        "            )            \n",
        "        self.relu = nn.ReLU()\n",
        "                  \n",
        "    def forward(self, x):\n",
        "        out = self. residual_block(x)  # F(x)\n",
        "        out = out  # F(x)\n",
        "        out = self.relu(out)\n",
        "        return out"
      ],
      "metadata": {
        "id": "SJFE_ZAKc-Xu"
      },
      "execution_count": null,
      "outputs": []
    },
    {
      "cell_type": "markdown",
      "source": [
        "#build model"
      ],
      "metadata": {
        "id": "q7DrKnyOdP9T"
      }
    },
    {
      "cell_type": "code",
      "source": [
        "class Base_Model(nn.Module):\n",
        "  def __init__(self,selected_block='base'):\n",
        "    super(Base_Model,self).__init__()\n",
        "    self.selected_block = selected_block\n",
        "    if(self.selected_block==\"base\"):\n",
        "      self.layer1 = Base_Block(1,4,4) #28x28 ->28x28\n",
        "      self.layer2 = Base_Block(4,4,4) #14x14 -> 14x14\n",
        "      self.layer3 = Base_Block(4,4,4) #7x7 -> 7x7\n",
        "      self.layer4 = Base_Block(4,4,4) #3x3 -> 3x3\n",
        "    elif(self.selected_block=='residual'):\n",
        "      self.layer1 = Residual_Block(1,4,4)\n",
        "      self.layer2 = Residual_Block(4,4,4)\n",
        "      self.layer3 = Residual_Block(4,4,4)\n",
        "      self.layer4 = Residual_Block(4,4,4)\n",
        "    else:\n",
        "      self.layer1 = Residual_Block_with_bottenlock(1,4,4)\n",
        "      self.layer2 = Residual_Block_with_bottenlock(4,4,4)\n",
        "      self.layer3 = Residual_Block_with_bottenlock(4,4,4)\n",
        "      self.layer4 = Residual_Block_with_bottenlock(4,4,4)\n",
        "    \n",
        "    self.last_layer = nn.Linear(36,10)\n",
        "    \n",
        "  def forward(self, x):\n",
        "      out = self.layer1(x)\n",
        "      #print(out.size())\n",
        "      out = nn.AvgPool2d(2)(out)\n",
        "      #print(out.size())\n",
        "      out = self.layer2(out)\n",
        "      #print(out.size())\n",
        "      out = nn.AvgPool2d(2)(out)\n",
        "      #print(out.size())\n",
        "      out = self.layer3(out)\n",
        "      #print(out.size())\n",
        "      out = nn.AvgPool2d(2)(out)\n",
        "      #print(out.size())\n",
        "      out = self.layer4(out)\n",
        "      #print(out.size())\n",
        "      out = out.view(16,-1) #64 is batch_Size\n",
        "      out = self.last_layer(out)\n",
        "      return out"
      ],
      "metadata": {
        "id": "5_bTByTAdRX6"
      },
      "execution_count": null,
      "outputs": []
    },
    {
      "cell_type": "markdown",
      "source": [
        "#load data"
      ],
      "metadata": {
        "id": "YWWUJHfFe_76"
      }
    },
    {
      "cell_type": "code",
      "source": [
        "transform = transforms.Compose(\n",
        "    [transforms.ToTensor(),\n",
        "     transforms.Normalize((0.5,), (0.5,))])"
      ],
      "metadata": {
        "id": "kUgZelIifBOi"
      },
      "execution_count": null,
      "outputs": []
    },
    {
      "cell_type": "code",
      "source": [
        "trainset = torchvision.datasets.MNIST(root='./data', train=True,\n",
        "                                        download=True, transform=transform)\n",
        "trainloader = torch.utils.data.DataLoader(trainset, batch_size=16,\n",
        "                                          shuffle=True, num_workers=2)\n",
        "\n",
        "testset = torchvision.datasets.MNIST(root='./data', train=False,\n",
        "                                       download=True, transform=transform)\n",
        "testloader = torch.utils.data.DataLoader(testset, batch_size=16,\n",
        "                                         shuffle=False, num_workers=2)"
      ],
      "metadata": {
        "id": "tAhkPb3hg-XZ",
        "colab": {
          "base_uri": "https://localhost:8080/",
          "referenced_widgets": [
            "cf975e54db994990acf1c5a40db89ed7",
            "e07814695bef41bda12e3f5bb27ae343",
            "7acbf1ae56d6476aaa7fafc164929e64",
            "ba5c3fa6385748888827a414a8b35d13",
            "ddd77f4ac43b4e14a5ed1843423c11c5",
            "a2f049be01ad40d1b8e7d5e8df627068",
            "e6e22a898e234cd39f341fa99f4e4b2b",
            "b0185ee5f9f4472b97f6ce4f85fbdff4",
            "49a5cedbf6a940ceb2e8cc2f8c6b3dd5",
            "cf1244daa5da4991a79854bb0fe60427",
            "a99a15dcb5ae4385bf2dc4f54323882d",
            "411332823a8e46c9818df92b09c12c73",
            "379b9b74233b4a6fbb798918373cc4f5",
            "266dc0aaac4e4847898c83d7c75660a0",
            "e8e6285fc5c9454f858099baaadfe9d2",
            "111fe7bc77f34966943d30689c760a13",
            "5a224764ea8c4cfab9417561ea6242a5",
            "856627045d7748de88bde2b205a9fd86",
            "3a8c123843e9443bae35b6102a63a062",
            "bc35038bc2a44c8ea29e23aec895ed66",
            "c3b5db77ec6541c0a9cc831fd9b01b5d",
            "a2f1f14149e64de88e20d8b1e6163d8d",
            "095174f1c6124bbba55fc8e5415d288a",
            "de43460b8ce342629de61deaed27c03a",
            "1a241a34ec5b4627a55ff43e7e5582d8",
            "641ca5530d43484fb3760ac810eac2c3",
            "f72626bb9e434283bf95b1b9c5f96315",
            "c4205416fe1a4b8499170d086ef91185",
            "c3fafe760d76431a8ac217c83b420953",
            "427ab2fc95ab4e66bec497d80c673a57",
            "ff15d7cfc303431d930bc02e9a2506ab",
            "2bfa88e35a5b4d61a67f5d5caf7adbd7",
            "d4c5bc065b364740bd4471de50f45930",
            "8304e5dd83254e1eb73f3a4175db90fe",
            "3525a5f1dc7e4d6a9e9a460c5765c72f",
            "8a3a9b50d3c6449e8b4690bebd0bc559",
            "d98b220f9b324394bccdb86438633404",
            "569ce87acbbf4f028292a362bb784330",
            "de8461024c6c462395f485f0c1d2ad09",
            "db51f79e972449b4a64b87bf75641fdc",
            "c9a12f6eaa31495b8042498ab4af71b9",
            "674aeb39d7db4e4fa922b0bb733a1da6",
            "52e0e282bf3a481d96ea7ec7d4cdd0e1",
            "bfabc7f4ae2847e59b7ea4213a3f7c1b"
          ]
        },
        "outputId": "5fa719dd-f6e7-46e9-d59c-507235d29290"
      },
      "execution_count": null,
      "outputs": [
        {
          "output_type": "stream",
          "name": "stdout",
          "text": [
            "Downloading http://yann.lecun.com/exdb/mnist/train-images-idx3-ubyte.gz\n",
            "Downloading http://yann.lecun.com/exdb/mnist/train-images-idx3-ubyte.gz to ./data/MNIST/raw/train-images-idx3-ubyte.gz\n"
          ]
        },
        {
          "output_type": "display_data",
          "data": {
            "text/plain": [
              "  0%|          | 0/9912422 [00:00<?, ?it/s]"
            ],
            "application/vnd.jupyter.widget-view+json": {
              "version_major": 2,
              "version_minor": 0,
              "model_id": "cf975e54db994990acf1c5a40db89ed7"
            }
          },
          "metadata": {}
        },
        {
          "output_type": "stream",
          "name": "stdout",
          "text": [
            "Extracting ./data/MNIST/raw/train-images-idx3-ubyte.gz to ./data/MNIST/raw\n",
            "\n",
            "Downloading http://yann.lecun.com/exdb/mnist/train-labels-idx1-ubyte.gz\n",
            "Downloading http://yann.lecun.com/exdb/mnist/train-labels-idx1-ubyte.gz to ./data/MNIST/raw/train-labels-idx1-ubyte.gz\n"
          ]
        },
        {
          "output_type": "display_data",
          "data": {
            "text/plain": [
              "  0%|          | 0/28881 [00:00<?, ?it/s]"
            ],
            "application/vnd.jupyter.widget-view+json": {
              "version_major": 2,
              "version_minor": 0,
              "model_id": "411332823a8e46c9818df92b09c12c73"
            }
          },
          "metadata": {}
        },
        {
          "output_type": "stream",
          "name": "stdout",
          "text": [
            "Extracting ./data/MNIST/raw/train-labels-idx1-ubyte.gz to ./data/MNIST/raw\n",
            "\n",
            "Downloading http://yann.lecun.com/exdb/mnist/t10k-images-idx3-ubyte.gz\n",
            "Downloading http://yann.lecun.com/exdb/mnist/t10k-images-idx3-ubyte.gz to ./data/MNIST/raw/t10k-images-idx3-ubyte.gz\n"
          ]
        },
        {
          "output_type": "display_data",
          "data": {
            "text/plain": [
              "  0%|          | 0/1648877 [00:00<?, ?it/s]"
            ],
            "application/vnd.jupyter.widget-view+json": {
              "version_major": 2,
              "version_minor": 0,
              "model_id": "095174f1c6124bbba55fc8e5415d288a"
            }
          },
          "metadata": {}
        },
        {
          "output_type": "stream",
          "name": "stdout",
          "text": [
            "Extracting ./data/MNIST/raw/t10k-images-idx3-ubyte.gz to ./data/MNIST/raw\n",
            "\n",
            "Downloading http://yann.lecun.com/exdb/mnist/t10k-labels-idx1-ubyte.gz\n",
            "Downloading http://yann.lecun.com/exdb/mnist/t10k-labels-idx1-ubyte.gz to ./data/MNIST/raw/t10k-labels-idx1-ubyte.gz\n"
          ]
        },
        {
          "output_type": "display_data",
          "data": {
            "text/plain": [
              "  0%|          | 0/4542 [00:00<?, ?it/s]"
            ],
            "application/vnd.jupyter.widget-view+json": {
              "version_major": 2,
              "version_minor": 0,
              "model_id": "8304e5dd83254e1eb73f3a4175db90fe"
            }
          },
          "metadata": {}
        },
        {
          "output_type": "stream",
          "name": "stdout",
          "text": [
            "Extracting ./data/MNIST/raw/t10k-labels-idx1-ubyte.gz to ./data/MNIST/raw\n",
            "\n"
          ]
        }
      ]
    },
    {
      "cell_type": "markdown",
      "source": [
        "#see result"
      ],
      "metadata": {
        "id": "3C0E_6E0t5MH"
      }
    },
    {
      "cell_type": "code",
      "source": [
        "def eval_model(model,criterion,optimizer):\n",
        "  num_epochs=5\n",
        "  for epoch in range(num_epochs):\n",
        "      # Train the model for one epoch\n",
        "      model.train()\n",
        "      train_loss = 0.0\n",
        "      train_correct = 0\n",
        "      train_total = 0\n",
        "      for inputs, labels in trainloader:\n",
        "          inputs, labels = inputs.to(device), labels.to(device)\n",
        "          optimizer.zero_grad()\n",
        "          outputs = model(inputs)\n",
        "          loss = criterion(outputs, labels)\n",
        "          loss.backward()\n",
        "          optimizer.step()\n",
        "\n",
        "          # Update the training loss and accuracy\n",
        "          train_loss += loss.item() * inputs.size(0)\n",
        "          _, predicted = torch.max(outputs.data, 1)\n",
        "          train_correct += (predicted == labels).sum().item()\n",
        "          train_total += labels.size(0)\n",
        "\n",
        "      # Compute the validation accuracy\n",
        "      model.eval()\n",
        "      val_correct = 0\n",
        "      val_total = 0\n",
        "      with torch.no_grad():\n",
        "          for inputs, labels in testloader:\n",
        "              inputs, labels = inputs.to(device), labels.to(device)\n",
        "              outputs = model(inputs)\n",
        "              _, predicted = torch.max(outputs.data, 1)\n",
        "              val_correct += (predicted == labels).sum().item()\n",
        "              val_total += labels.size(0)\n",
        "      val_acc = val_correct / val_total\n",
        "\n",
        "      # Print the training loss and validation accuracy for this epoch\n",
        "      train_loss = train_loss / len(trainloader.dataset)\n",
        "      train_acc = train_correct / train_total\n",
        "      print(f'Epoch {epoch+1}/{num_epochs}: Train Loss: {train_loss:.4f} Train Acc: {train_acc:.4f} Val Acc: {val_acc:.4f}')"
      ],
      "metadata": {
        "id": "GaWYjHLQiub5"
      },
      "execution_count": null,
      "outputs": []
    },
    {
      "cell_type": "code",
      "source": [
        "import time\n",
        "model = Base_Model('base').to(device)\n",
        "criterion = torch.nn.CrossEntropyLoss()\n",
        "optimizer = torch.optim.SGD(model.parameters(), lr=0.001, momentum=0.9)\n",
        "\n",
        "start = time.time()\n",
        "eval_model(model,criterion,optimizer)\n",
        "fin = time.time()\n",
        "print(f\"total time: {fin-start:.2f} second\")"
      ],
      "metadata": {
        "colab": {
          "base_uri": "https://localhost:8080/"
        },
        "id": "GsbUJvMXprN2",
        "outputId": "1ecd352b-f534-4f88-ad87-e3b9d5a5f9a9"
      },
      "execution_count": null,
      "outputs": [
        {
          "output_type": "stream",
          "name": "stdout",
          "text": [
            "Epoch 1/5: Train Loss: 2.3018 Train Acc: 0.1114 Val Acc: 0.1135\n",
            "Epoch 2/5: Train Loss: 2.3014 Train Acc: 0.1124 Val Acc: 0.1135\n",
            "Epoch 3/5: Train Loss: 2.3014 Train Acc: 0.1124 Val Acc: 0.1135\n",
            "Epoch 4/5: Train Loss: 2.3014 Train Acc: 0.1124 Val Acc: 0.1135\n",
            "Epoch 5/5: Train Loss: 2.3013 Train Acc: 0.1124 Val Acc: 0.1135\n",
            "total time: 205.11 second\n"
          ]
        }
      ]
    },
    {
      "cell_type": "code",
      "source": [
        "import time\n",
        "model = Base_Model('residual').to(device)\n",
        "criterion = torch.nn.CrossEntropyLoss()\n",
        "optimizer = torch.optim.SGD(model.parameters(), lr=0.001, momentum=0.9)\n",
        "\n",
        "start = time.time()\n",
        "eval_model(model,criterion,optimizer)\n",
        "fin = time.time()\n",
        "print(f\"total time: {fin-start:.2f} second\")"
      ],
      "metadata": {
        "colab": {
          "base_uri": "https://localhost:8080/"
        },
        "id": "_WevSv99onms",
        "outputId": "0ffec8ab-033e-442f-b1df-deb7a6473435"
      },
      "execution_count": null,
      "outputs": [
        {
          "output_type": "stream",
          "name": "stdout",
          "text": [
            "Epoch 1/5: Train Loss: 0.9464 Train Acc: 0.6869 Val Acc: 0.9262\n",
            "Epoch 2/5: Train Loss: 0.2057 Train Acc: 0.9369 Val Acc: 0.9536\n",
            "Epoch 3/5: Train Loss: 0.1421 Train Acc: 0.9563 Val Acc: 0.9639\n",
            "Epoch 4/5: Train Loss: 0.1120 Train Acc: 0.9647 Val Acc: 0.9683\n",
            "Epoch 5/5: Train Loss: 0.0995 Train Acc: 0.9684 Val Acc: 0.9742\n",
            "total time: 211.52 second\n"
          ]
        }
      ]
    },
    {
      "cell_type": "code",
      "source": [
        "import time\n",
        "model = Base_Model('residual_with_bottenlock').to(device)\n",
        "criterion = torch.nn.CrossEntropyLoss()\n",
        "optimizer = torch.optim.SGD(model.parameters(), lr=0.001, momentum=0.9)\n",
        "\n",
        "start = time.time()\n",
        "eval_model(model,criterion,optimizer)\n",
        "fin = time.time()\n",
        "print(f\"total time: {fin-start:.2f} second\")"
      ],
      "metadata": {
        "colab": {
          "base_uri": "https://localhost:8080/"
        },
        "id": "8BJV6AHPpwsp",
        "outputId": "87ef3ddc-ba32-43e4-c805-bfcd732dd494"
      },
      "execution_count": null,
      "outputs": [
        {
          "output_type": "stream",
          "name": "stdout",
          "text": [
            "Epoch 1/5: Train Loss: 1.1405 Train Acc: 0.6259 Val Acc: 0.8550\n",
            "Epoch 2/5: Train Loss: 0.4335 Train Acc: 0.8647 Val Acc: 0.8951\n",
            "Epoch 3/5: Train Loss: 0.3531 Train Acc: 0.8928 Val Acc: 0.9051\n",
            "Epoch 4/5: Train Loss: 0.3136 Train Acc: 0.9019 Val Acc: 0.9034\n",
            "Epoch 5/5: Train Loss: 0.2917 Train Acc: 0.9077 Val Acc: 0.9148\n",
            "total time: 223.22 second\n"
          ]
        }
      ]
    },
    {
      "cell_type": "code",
      "source": [
        "model = Base_Model('base').to(device)\n",
        "num_params = sum(p.numel() for p in model.parameters())\n",
        "print(f\"Number of parameters: {num_params}\")"
      ],
      "metadata": {
        "colab": {
          "base_uri": "https://localhost:8080/"
        },
        "id": "Kt3iIN9Su8nV",
        "outputId": "9975804e-962a-4914-935c-fe6444247ec5"
      },
      "execution_count": null,
      "outputs": [
        {
          "output_type": "stream",
          "name": "stdout",
          "text": [
            "Number of parameters: 1446\n"
          ]
        }
      ]
    },
    {
      "cell_type": "code",
      "source": [
        "model = Base_Model('residual').to(device)\n",
        "num_params = sum(p.numel() for p in model.parameters())\n",
        "print(f\"Number of parameters: {num_params}\")"
      ],
      "metadata": {
        "colab": {
          "base_uri": "https://localhost:8080/"
        },
        "id": "U_hDDHwNu92O",
        "outputId": "770a5665-7a3b-4966-f631-b8ccf7911d8d"
      },
      "execution_count": null,
      "outputs": [
        {
          "output_type": "stream",
          "name": "stdout",
          "text": [
            "Number of parameters: 1446\n"
          ]
        }
      ]
    },
    {
      "cell_type": "code",
      "source": [
        "model = Base_Model('residual_with_bottenlock').to(device)\n",
        "num_params = sum(p.numel() for p in model.parameters())\n",
        "print(f\"Number of parameters: {num_params}\")"
      ],
      "metadata": {
        "colab": {
          "base_uri": "https://localhost:8080/"
        },
        "id": "jnS9HxWBuuh2",
        "outputId": "a03734ca-08c8-481a-b22b-67d59331d45e"
      },
      "execution_count": null,
      "outputs": [
        {
          "output_type": "stream",
          "name": "stdout",
          "text": [
            "Number of parameters: 1110\n"
          ]
        }
      ]
    },
    {
      "cell_type": "markdown",
      "source": [
        "residual구조가 없는 base model은 8개라는 적은 층에도 불구하고 학습이 이루어지지 않음."
      ],
      "metadata": {
        "id": "QpIxMbJMvzOM"
      }
    },
    {
      "cell_type": "markdown",
      "source": [
        "모델이 작기 때문에 bottenlock 구조와 residual구조의 파라미터 개수 차이가 적어 유의미한 속도 차이가 없는 것으로 보임"
      ],
      "metadata": {
        "id": "875zYruGvFE1"
      }
    },
    {
      "cell_type": "markdown",
      "source": [
        "#additional research"
      ],
      "metadata": {
        "id": "3x-092BOzKwZ"
      }
    },
    {
      "cell_type": "markdown",
      "source": [
        "https://arxiv.org/abs/1605.06431\n",
        "\n",
        "Residual Networks Behave Like Ensembles of Relatively Shallow Networks\n",
        "\n",
        "resnet의 residual block들이 앙상블처럼 활동한다는 논문이 있어 직접 실험해봄.\n",
        "가장 처음 layer1을 제외한, layer2,3,4들을 하나씩 빼보면서 val_score을 구해보았다."
      ],
      "metadata": {
        "id": "fGQ15wIb8Cjn"
      }
    },
    {
      "cell_type": "code",
      "source": [
        "#model.forward를 override하기 위한 새로운 forward생성성\n",
        "def dropout_forward(self, x, skip_layers=[False, False, False]):\n",
        "      out = self.layer1(x)\n",
        "      out = nn.AvgPool2d(2)(out)\n",
        "\n",
        "      if not skip_layers[0]:\n",
        "          out = self.layer2(out)\n",
        "      out = nn.AvgPool2d(2)(out)\n",
        "      \n",
        "      if not skip_layers[1]:\n",
        "          out = self.layer3(out)\n",
        "      out = nn.AvgPool2d(2)(out)\n",
        "      \n",
        "      if not skip_layers[2]:\n",
        "          out = self.layer4(out)\n",
        "      \n",
        "      out = out.view(16,-1)\n",
        "      out = self.last_layer(out)\n",
        "      return out"
      ],
      "metadata": {
        "id": "NkeEzFQg2ywy"
      },
      "execution_count": null,
      "outputs": []
    },
    {
      "cell_type": "code",
      "source": [
        "#val_accuracy만 구하는 함수 작성\n",
        "def dropout_eval(model,skip_layers):\n",
        "      model.eval()\n",
        "      val_correct = 0\n",
        "      val_total = 0\n",
        "      with torch.no_grad():\n",
        "          for inputs, labels in testloader:\n",
        "              inputs, labels = inputs.to(device), labels.to(device)\n",
        "              outputs = model(inputs,skip_layers)\n",
        "              _, predicted = torch.max(outputs.data, 1)\n",
        "              val_correct += (predicted == labels).sum().item()\n",
        "              val_total += labels.size(0)\n",
        "      val_acc = val_correct / val_total\n",
        "      print(f' Val Acc: {val_acc:.4f}')"
      ],
      "metadata": {
        "id": "fcGR3iQK3wu3"
      },
      "execution_count": null,
      "outputs": []
    },
    {
      "cell_type": "code",
      "source": [
        "#base_model을 일단 학습\n",
        "import time\n",
        "model = Base_Model('residual').to(device)\n",
        "criterion = torch.nn.CrossEntropyLoss()\n",
        "optimizer = torch.optim.SGD(model.parameters(), lr=0.001, momentum=0.9)\n",
        "\n",
        "start = time.time()\n",
        "eval_model(model,criterion,optimizer)\n",
        "fin = time.time()\n",
        "print(f\"total time: {fin-start:.2f} second\")"
      ],
      "metadata": {
        "colab": {
          "base_uri": "https://localhost:8080/"
        },
        "id": "A0pOsb1pzOS-",
        "outputId": "ea9cecc3-9d27-4339-b091-2d346b4e3158"
      },
      "execution_count": null,
      "outputs": [
        {
          "output_type": "stream",
          "name": "stdout",
          "text": [
            "Epoch 1/5: Train Loss: 0.9350 Train Acc: 0.6996 Val Acc: 0.9141\n",
            "Epoch 2/5: Train Loss: 0.2130 Train Acc: 0.9359 Val Acc: 0.9350\n",
            "Epoch 3/5: Train Loss: 0.1573 Train Acc: 0.9533 Val Acc: 0.9618\n",
            "Epoch 4/5: Train Loss: 0.1321 Train Acc: 0.9604 Val Acc: 0.9635\n",
            "Epoch 5/5: Train Loss: 0.1138 Train Acc: 0.9659 Val Acc: 0.9673\n",
            "total time: 223.30 second\n"
          ]
        }
      ]
    },
    {
      "cell_type": "code",
      "source": [
        "#override model.forward\n",
        "model.forward = dropout_forward.__get__(model,Base_Model)"
      ],
      "metadata": {
        "id": "jpBhucPKzW7n"
      },
      "execution_count": null,
      "outputs": []
    },
    {
      "cell_type": "code",
      "source": [
        "#정상적으로 override되었는지 확인\n",
        "dropout_eval(model,skip_layers=[False,False,False])"
      ],
      "metadata": {
        "colab": {
          "base_uri": "https://localhost:8080/"
        },
        "id": "BHZBwlDy6FJg",
        "outputId": "9bad1ab1-f529-4628-ca36-bccf26595135"
      },
      "execution_count": null,
      "outputs": [
        {
          "output_type": "stream",
          "name": "stdout",
          "text": [
            " Val Acc: 0.9673\n"
          ]
        }
      ]
    },
    {
      "cell_type": "code",
      "source": [
        "#layers를 하나씩 빼봄\n",
        "dropout_eval(model,skip_layers=[True,False,False])\n",
        "dropout_eval(model,skip_layers=[False,True,False])\n",
        "dropout_eval(model,skip_layers=[False,False,True])"
      ],
      "metadata": {
        "colab": {
          "base_uri": "https://localhost:8080/"
        },
        "id": "lYhz1xmN83Oa",
        "outputId": "a8e31512-0eab-424f-b871-b4f6cc77140f"
      },
      "execution_count": null,
      "outputs": [
        {
          "output_type": "stream",
          "name": "stdout",
          "text": [
            " Val Acc: 0.6217\n",
            " Val Acc: 0.5639\n",
            " Val Acc: 0.9345\n"
          ]
        }
      ]
    },
    {
      "cell_type": "code",
      "source": [
        "#layer를 2개 뺀다면?\n",
        "dropout_eval(model,skip_layers=[True,True,False])\n",
        "dropout_eval(model,skip_layers=[False,True,True])\n",
        "dropout_eval(model,skip_layers=[True,False,True])"
      ],
      "metadata": {
        "colab": {
          "base_uri": "https://localhost:8080/"
        },
        "id": "twrU4VGJ87eU",
        "outputId": "52a30256-2971-4784-e943-9730ccff4853"
      },
      "execution_count": null,
      "outputs": [
        {
          "output_type": "stream",
          "name": "stdout",
          "text": [
            " Val Acc: 0.2357\n",
            " Val Acc: 0.4983\n",
            " Val Acc: 0.5913\n"
          ]
        }
      ]
    },
    {
      "cell_type": "code",
      "source": [
        "#다 빼버린다면..?\n",
        "dropout_eval(model,skip_layers=[True,True,True])"
      ],
      "metadata": {
        "colab": {
          "base_uri": "https://localhost:8080/"
        },
        "id": "wivbL3o79ODI",
        "outputId": "a709cc1a-4da2-4e48-c75d-51153a64c8c9"
      },
      "execution_count": null,
      "outputs": [
        {
          "output_type": "stream",
          "name": "stdout",
          "text": [
            " Val Acc: 0.2245\n"
          ]
        }
      ]
    },
    {
      "cell_type": "markdown",
      "source": [
        "##대조군"
      ],
      "metadata": {
        "id": "9be2_wCYQMdS"
      }
    },
    {
      "cell_type": "code",
      "source": [
        "#대조군\n",
        "class Base_Model_no_pooling(nn.Module):\n",
        "  def __init__(self,selected_block='base'): #base모델의 경우 layer층이 3개 이상부터는 학습을 원활히 하지 못함.\n",
        "    super(Base_Model_no_pooling,self).__init__()\n",
        "    self.selected_block = selected_block\n",
        "    \n",
        "    self.layer1 = Base_Block(1,4,4) #28x28 \n",
        "    self.layer2 = Base_Block(4,4,4) #28x28\n",
        "\n",
        "    self.last_layer = nn.Linear(28*28*4,10)\n",
        "    \n",
        "  def forward(self, x):\n",
        "      out = self.layer1(x)\n",
        "  \n",
        "      out = self.layer2(out)\n",
        "\n",
        "      out = out.view(16,-1) #64 is batch_Size\n",
        "      out = self.last_layer(out)\n",
        "      return out\n"
      ],
      "metadata": {
        "id": "-0TQ9WSaLSKE"
      },
      "execution_count": null,
      "outputs": []
    },
    {
      "cell_type": "code",
      "source": [
        "#model.forward를 override하기 위한 새로운 forward생성성\n",
        "def dropout_forward_2layers(self, x, skip_layers=[False]):\n",
        "      \n",
        "      out = self.layer1(x)\n",
        "      \n",
        "      if not skip_layers[0]:\n",
        "          out = self.layer2(out)\n",
        "\n",
        "      out = out.view(16,-1)\n",
        "      out = self.last_layer(out)\n",
        "      return out"
      ],
      "metadata": {
        "id": "LLG5sMt5NViE"
      },
      "execution_count": null,
      "outputs": []
    },
    {
      "cell_type": "code",
      "source": [
        "import time\n",
        "model = Base_Model_no_pooling('base').to(device)\n",
        "criterion = torch.nn.CrossEntropyLoss()\n",
        "optimizer = torch.optim.SGD(model.parameters(), lr=0.001, momentum=0.9)\n",
        "\n",
        "start = time.time()\n",
        "eval_model(model,criterion,optimizer)\n",
        "fin = time.time()\n",
        "print(f\"total time: {fin-start:.2f} second\")"
      ],
      "metadata": {
        "colab": {
          "base_uri": "https://localhost:8080/"
        },
        "id": "plGi0ZRfL0IW",
        "outputId": "3be08bc1-a04f-4aae-c493-c325ed757ace"
      },
      "execution_count": null,
      "outputs": [
        {
          "output_type": "stream",
          "name": "stderr",
          "text": [
            "Exception ignored in: <function _MultiProcessingDataLoaderIter.__del__ at 0x7f4772baf430>Exception ignored in: <function _MultiProcessingDataLoaderIter.__del__ at 0x7f4772baf430>\n",
            "\n",
            "Traceback (most recent call last):\n",
            "  File \"/usr/local/lib/python3.8/dist-packages/torch/utils/data/dataloader.py\", line 1466, in __del__\n",
            "Traceback (most recent call last):\n",
            "    self._shutdown_workers()  File \"/usr/local/lib/python3.8/dist-packages/torch/utils/data/dataloader.py\", line 1466, in __del__\n",
            "    \n",
            "    self._shutdown_workers()\n",
            "  File \"/usr/local/lib/python3.8/dist-packages/torch/utils/data/dataloader.py\", line 1449, in _shutdown_workers\n",
            "  File \"/usr/local/lib/python3.8/dist-packages/torch/utils/data/dataloader.py\", line 1449, in _shutdown_workers\n",
            "if w.is_alive():\n",
            "  File \"/usr/lib/python3.8/multiprocessing/process.py\", line 160, in is_alive\n",
            "    assert self._parent_pid == os.getpid(), 'can only test a child process'\n",
            "    AssertionError: can only test a child processif w.is_alive():\n",
            "  File \"/usr/lib/python3.8/multiprocessing/process.py\", line 160, in is_alive\n",
            "\n",
            "Exception ignored in: <function _MultiProcessingDataLoaderIter.__del__ at 0x7f4772baf430>\n",
            "      File \"/usr/local/lib/python3.8/dist-packages/torch/utils/data/dataloader.py\", line 1466, in __del__\n",
            "Traceback (most recent call last):\n",
            "assert self._parent_pid == os.getpid(), 'can only test a child process'    \n",
            "self._shutdown_workers()\n",
            "  File \"/usr/local/lib/python3.8/dist-packages/torch/utils/data/dataloader.py\", line 1449, in _shutdown_workers\n",
            "AssertionError    : if w.is_alive():can only test a child process\n",
            "  File \"/usr/lib/python3.8/multiprocessing/process.py\", line 160, in is_alive\n",
            "    \n",
            "assert self._parent_pid == os.getpid(), 'can only test a child process'Exception ignored in: <function _MultiProcessingDataLoaderIter.__del__ at 0x7f4772baf430>\n",
            "\n",
            "Traceback (most recent call last):\n",
            "AssertionError  File \"/usr/local/lib/python3.8/dist-packages/torch/utils/data/dataloader.py\", line 1466, in __del__\n",
            "    : self._shutdown_workers()\n",
            "can only test a child process  File \"/usr/local/lib/python3.8/dist-packages/torch/utils/data/dataloader.py\", line 1449, in _shutdown_workers\n",
            "\n",
            "    if w.is_alive():\n",
            "  File \"/usr/lib/python3.8/multiprocessing/process.py\", line 160, in is_alive\n",
            "    assert self._parent_pid == os.getpid(), 'can only test a child process'\n",
            "AssertionError: can only test a child process\n"
          ]
        },
        {
          "output_type": "stream",
          "name": "stdout",
          "text": [
            "Epoch 2/5: Train Loss: 0.1255 Train Acc: 0.9626 Val Acc: 0.9741\n",
            "Epoch 3/5: Train Loss: 0.0973 Train Acc: 0.9702 Val Acc: 0.9749\n",
            "Epoch 4/5: Train Loss: 0.0833 Train Acc: 0.9742 Val Acc: 0.9732\n",
            "Epoch 5/5: Train Loss: 0.0740 Train Acc: 0.9768 Val Acc: 0.9771\n",
            "total time: 169.08 second\n"
          ]
        }
      ]
    },
    {
      "cell_type": "code",
      "source": [
        "model.forward = dropout_forward_2layers.__get__(model,Base_Model_no_pooling)"
      ],
      "metadata": {
        "id": "dUfwQ9PoMD7g"
      },
      "execution_count": null,
      "outputs": []
    },
    {
      "cell_type": "code",
      "source": [
        "dropout_eval(model,skip_layers=[False])\n",
        "dropout_eval(model,skip_layers=[True])"
      ],
      "metadata": {
        "colab": {
          "base_uri": "https://localhost:8080/"
        },
        "id": "NhWD8ruYNryW",
        "outputId": "3cf23172-6532-4cbe-d660-3da78e0e48e0"
      },
      "execution_count": null,
      "outputs": [
        {
          "output_type": "stream",
          "name": "stdout",
          "text": [
            " Val Acc: 0.9771\n",
            " Val Acc: 0.1509\n"
          ]
        }
      ]
    },
    {
      "cell_type": "markdown",
      "source": [
        "residual block이 없는 base_model에서 특정 layer를 drop한 것보다\n",
        "\n",
        "residual block이 있는 model에서 특정 layer를 제거한 것이 높은 val_acc를 보임"
      ],
      "metadata": {
        "id": "uj61NO0-Sw9X"
      }
    }
  ]
}