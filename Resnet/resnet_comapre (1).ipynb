{
  "nbformat": 4,
  "nbformat_minor": 0,
  "metadata": {
    "colab": {
      "provenance": [],
      "collapsed_sections": [
        "4sDtj4VPdK5J",
        "6GDsG3dtdM66",
        "q7DrKnyOdP9T",
        "YWWUJHfFe_76"
      ]
    },
    "kernelspec": {
      "name": "python3",
      "display_name": "Python 3"
    },
    "language_info": {
      "name": "python"
    },
    "accelerator": "GPU",
    "gpuClass": "standard",
    "widgets": {
      "application/vnd.jupyter.widget-state+json": {
        "3f1869de58bf472090c930570b12b4d1": {
          "model_module": "@jupyter-widgets/controls",
          "model_name": "HBoxModel",
          "model_module_version": "1.5.0",
          "state": {
            "_dom_classes": [],
            "_model_module": "@jupyter-widgets/controls",
            "_model_module_version": "1.5.0",
            "_model_name": "HBoxModel",
            "_view_count": null,
            "_view_module": "@jupyter-widgets/controls",
            "_view_module_version": "1.5.0",
            "_view_name": "HBoxView",
            "box_style": "",
            "children": [
              "IPY_MODEL_51c2b7cd7c64447896ccdb6b76720730",
              "IPY_MODEL_b0310c78e68847dca396964e807165dd",
              "IPY_MODEL_970361faf88e468d963e2f2a58ab5e2c"
            ],
            "layout": "IPY_MODEL_c04e39e732914646aca2635499d3202e"
          }
        },
        "51c2b7cd7c64447896ccdb6b76720730": {
          "model_module": "@jupyter-widgets/controls",
          "model_name": "HTMLModel",
          "model_module_version": "1.5.0",
          "state": {
            "_dom_classes": [],
            "_model_module": "@jupyter-widgets/controls",
            "_model_module_version": "1.5.0",
            "_model_name": "HTMLModel",
            "_view_count": null,
            "_view_module": "@jupyter-widgets/controls",
            "_view_module_version": "1.5.0",
            "_view_name": "HTMLView",
            "description": "",
            "description_tooltip": null,
            "layout": "IPY_MODEL_daa28e57e0734535b05c7dd1cd958cd2",
            "placeholder": "​",
            "style": "IPY_MODEL_b700783cc42740e8b89cca116789231b",
            "value": "100%"
          }
        },
        "b0310c78e68847dca396964e807165dd": {
          "model_module": "@jupyter-widgets/controls",
          "model_name": "FloatProgressModel",
          "model_module_version": "1.5.0",
          "state": {
            "_dom_classes": [],
            "_model_module": "@jupyter-widgets/controls",
            "_model_module_version": "1.5.0",
            "_model_name": "FloatProgressModel",
            "_view_count": null,
            "_view_module": "@jupyter-widgets/controls",
            "_view_module_version": "1.5.0",
            "_view_name": "ProgressView",
            "bar_style": "success",
            "description": "",
            "description_tooltip": null,
            "layout": "IPY_MODEL_272d7cdfebeb49f196b6a90545c99ad9",
            "max": 9912422,
            "min": 0,
            "orientation": "horizontal",
            "style": "IPY_MODEL_4ab29798bfad45739cc220ebb3613ee9",
            "value": 9912422
          }
        },
        "970361faf88e468d963e2f2a58ab5e2c": {
          "model_module": "@jupyter-widgets/controls",
          "model_name": "HTMLModel",
          "model_module_version": "1.5.0",
          "state": {
            "_dom_classes": [],
            "_model_module": "@jupyter-widgets/controls",
            "_model_module_version": "1.5.0",
            "_model_name": "HTMLModel",
            "_view_count": null,
            "_view_module": "@jupyter-widgets/controls",
            "_view_module_version": "1.5.0",
            "_view_name": "HTMLView",
            "description": "",
            "description_tooltip": null,
            "layout": "IPY_MODEL_d598ce5d4b444708a68253f1a2e92459",
            "placeholder": "​",
            "style": "IPY_MODEL_1a1722b3b196499c81563c8194ca52c3",
            "value": " 9912422/9912422 [00:00&lt;00:00, 31676113.00it/s]"
          }
        },
        "c04e39e732914646aca2635499d3202e": {
          "model_module": "@jupyter-widgets/base",
          "model_name": "LayoutModel",
          "model_module_version": "1.2.0",
          "state": {
            "_model_module": "@jupyter-widgets/base",
            "_model_module_version": "1.2.0",
            "_model_name": "LayoutModel",
            "_view_count": null,
            "_view_module": "@jupyter-widgets/base",
            "_view_module_version": "1.2.0",
            "_view_name": "LayoutView",
            "align_content": null,
            "align_items": null,
            "align_self": null,
            "border": null,
            "bottom": null,
            "display": null,
            "flex": null,
            "flex_flow": null,
            "grid_area": null,
            "grid_auto_columns": null,
            "grid_auto_flow": null,
            "grid_auto_rows": null,
            "grid_column": null,
            "grid_gap": null,
            "grid_row": null,
            "grid_template_areas": null,
            "grid_template_columns": null,
            "grid_template_rows": null,
            "height": null,
            "justify_content": null,
            "justify_items": null,
            "left": null,
            "margin": null,
            "max_height": null,
            "max_width": null,
            "min_height": null,
            "min_width": null,
            "object_fit": null,
            "object_position": null,
            "order": null,
            "overflow": null,
            "overflow_x": null,
            "overflow_y": null,
            "padding": null,
            "right": null,
            "top": null,
            "visibility": null,
            "width": null
          }
        },
        "daa28e57e0734535b05c7dd1cd958cd2": {
          "model_module": "@jupyter-widgets/base",
          "model_name": "LayoutModel",
          "model_module_version": "1.2.0",
          "state": {
            "_model_module": "@jupyter-widgets/base",
            "_model_module_version": "1.2.0",
            "_model_name": "LayoutModel",
            "_view_count": null,
            "_view_module": "@jupyter-widgets/base",
            "_view_module_version": "1.2.0",
            "_view_name": "LayoutView",
            "align_content": null,
            "align_items": null,
            "align_self": null,
            "border": null,
            "bottom": null,
            "display": null,
            "flex": null,
            "flex_flow": null,
            "grid_area": null,
            "grid_auto_columns": null,
            "grid_auto_flow": null,
            "grid_auto_rows": null,
            "grid_column": null,
            "grid_gap": null,
            "grid_row": null,
            "grid_template_areas": null,
            "grid_template_columns": null,
            "grid_template_rows": null,
            "height": null,
            "justify_content": null,
            "justify_items": null,
            "left": null,
            "margin": null,
            "max_height": null,
            "max_width": null,
            "min_height": null,
            "min_width": null,
            "object_fit": null,
            "object_position": null,
            "order": null,
            "overflow": null,
            "overflow_x": null,
            "overflow_y": null,
            "padding": null,
            "right": null,
            "top": null,
            "visibility": null,
            "width": null
          }
        },
        "b700783cc42740e8b89cca116789231b": {
          "model_module": "@jupyter-widgets/controls",
          "model_name": "DescriptionStyleModel",
          "model_module_version": "1.5.0",
          "state": {
            "_model_module": "@jupyter-widgets/controls",
            "_model_module_version": "1.5.0",
            "_model_name": "DescriptionStyleModel",
            "_view_count": null,
            "_view_module": "@jupyter-widgets/base",
            "_view_module_version": "1.2.0",
            "_view_name": "StyleView",
            "description_width": ""
          }
        },
        "272d7cdfebeb49f196b6a90545c99ad9": {
          "model_module": "@jupyter-widgets/base",
          "model_name": "LayoutModel",
          "model_module_version": "1.2.0",
          "state": {
            "_model_module": "@jupyter-widgets/base",
            "_model_module_version": "1.2.0",
            "_model_name": "LayoutModel",
            "_view_count": null,
            "_view_module": "@jupyter-widgets/base",
            "_view_module_version": "1.2.0",
            "_view_name": "LayoutView",
            "align_content": null,
            "align_items": null,
            "align_self": null,
            "border": null,
            "bottom": null,
            "display": null,
            "flex": null,
            "flex_flow": null,
            "grid_area": null,
            "grid_auto_columns": null,
            "grid_auto_flow": null,
            "grid_auto_rows": null,
            "grid_column": null,
            "grid_gap": null,
            "grid_row": null,
            "grid_template_areas": null,
            "grid_template_columns": null,
            "grid_template_rows": null,
            "height": null,
            "justify_content": null,
            "justify_items": null,
            "left": null,
            "margin": null,
            "max_height": null,
            "max_width": null,
            "min_height": null,
            "min_width": null,
            "object_fit": null,
            "object_position": null,
            "order": null,
            "overflow": null,
            "overflow_x": null,
            "overflow_y": null,
            "padding": null,
            "right": null,
            "top": null,
            "visibility": null,
            "width": null
          }
        },
        "4ab29798bfad45739cc220ebb3613ee9": {
          "model_module": "@jupyter-widgets/controls",
          "model_name": "ProgressStyleModel",
          "model_module_version": "1.5.0",
          "state": {
            "_model_module": "@jupyter-widgets/controls",
            "_model_module_version": "1.5.0",
            "_model_name": "ProgressStyleModel",
            "_view_count": null,
            "_view_module": "@jupyter-widgets/base",
            "_view_module_version": "1.2.0",
            "_view_name": "StyleView",
            "bar_color": null,
            "description_width": ""
          }
        },
        "d598ce5d4b444708a68253f1a2e92459": {
          "model_module": "@jupyter-widgets/base",
          "model_name": "LayoutModel",
          "model_module_version": "1.2.0",
          "state": {
            "_model_module": "@jupyter-widgets/base",
            "_model_module_version": "1.2.0",
            "_model_name": "LayoutModel",
            "_view_count": null,
            "_view_module": "@jupyter-widgets/base",
            "_view_module_version": "1.2.0",
            "_view_name": "LayoutView",
            "align_content": null,
            "align_items": null,
            "align_self": null,
            "border": null,
            "bottom": null,
            "display": null,
            "flex": null,
            "flex_flow": null,
            "grid_area": null,
            "grid_auto_columns": null,
            "grid_auto_flow": null,
            "grid_auto_rows": null,
            "grid_column": null,
            "grid_gap": null,
            "grid_row": null,
            "grid_template_areas": null,
            "grid_template_columns": null,
            "grid_template_rows": null,
            "height": null,
            "justify_content": null,
            "justify_items": null,
            "left": null,
            "margin": null,
            "max_height": null,
            "max_width": null,
            "min_height": null,
            "min_width": null,
            "object_fit": null,
            "object_position": null,
            "order": null,
            "overflow": null,
            "overflow_x": null,
            "overflow_y": null,
            "padding": null,
            "right": null,
            "top": null,
            "visibility": null,
            "width": null
          }
        },
        "1a1722b3b196499c81563c8194ca52c3": {
          "model_module": "@jupyter-widgets/controls",
          "model_name": "DescriptionStyleModel",
          "model_module_version": "1.5.0",
          "state": {
            "_model_module": "@jupyter-widgets/controls",
            "_model_module_version": "1.5.0",
            "_model_name": "DescriptionStyleModel",
            "_view_count": null,
            "_view_module": "@jupyter-widgets/base",
            "_view_module_version": "1.2.0",
            "_view_name": "StyleView",
            "description_width": ""
          }
        },
        "ff88e009b85743409a18e40eb9d2d3ce": {
          "model_module": "@jupyter-widgets/controls",
          "model_name": "HBoxModel",
          "model_module_version": "1.5.0",
          "state": {
            "_dom_classes": [],
            "_model_module": "@jupyter-widgets/controls",
            "_model_module_version": "1.5.0",
            "_model_name": "HBoxModel",
            "_view_count": null,
            "_view_module": "@jupyter-widgets/controls",
            "_view_module_version": "1.5.0",
            "_view_name": "HBoxView",
            "box_style": "",
            "children": [
              "IPY_MODEL_0f92b550d66a49809b6df78859555050",
              "IPY_MODEL_61a9268a561f446195d449013017ff31",
              "IPY_MODEL_3418c4459f2b448d890ab72854ae8b24"
            ],
            "layout": "IPY_MODEL_d1907f336dae4060b3c6dcad996b1ca9"
          }
        },
        "0f92b550d66a49809b6df78859555050": {
          "model_module": "@jupyter-widgets/controls",
          "model_name": "HTMLModel",
          "model_module_version": "1.5.0",
          "state": {
            "_dom_classes": [],
            "_model_module": "@jupyter-widgets/controls",
            "_model_module_version": "1.5.0",
            "_model_name": "HTMLModel",
            "_view_count": null,
            "_view_module": "@jupyter-widgets/controls",
            "_view_module_version": "1.5.0",
            "_view_name": "HTMLView",
            "description": "",
            "description_tooltip": null,
            "layout": "IPY_MODEL_7acf6f63948d4a6b987aca4cd2982eb2",
            "placeholder": "​",
            "style": "IPY_MODEL_4c9a4f9d7eb34eceafa1c5e5f06cf8f4",
            "value": "100%"
          }
        },
        "61a9268a561f446195d449013017ff31": {
          "model_module": "@jupyter-widgets/controls",
          "model_name": "FloatProgressModel",
          "model_module_version": "1.5.0",
          "state": {
            "_dom_classes": [],
            "_model_module": "@jupyter-widgets/controls",
            "_model_module_version": "1.5.0",
            "_model_name": "FloatProgressModel",
            "_view_count": null,
            "_view_module": "@jupyter-widgets/controls",
            "_view_module_version": "1.5.0",
            "_view_name": "ProgressView",
            "bar_style": "success",
            "description": "",
            "description_tooltip": null,
            "layout": "IPY_MODEL_bd5437f4b9974cb3b07e5803aa419f04",
            "max": 28881,
            "min": 0,
            "orientation": "horizontal",
            "style": "IPY_MODEL_bdbece385a78438c90f738e99b6c4aea",
            "value": 28881
          }
        },
        "3418c4459f2b448d890ab72854ae8b24": {
          "model_module": "@jupyter-widgets/controls",
          "model_name": "HTMLModel",
          "model_module_version": "1.5.0",
          "state": {
            "_dom_classes": [],
            "_model_module": "@jupyter-widgets/controls",
            "_model_module_version": "1.5.0",
            "_model_name": "HTMLModel",
            "_view_count": null,
            "_view_module": "@jupyter-widgets/controls",
            "_view_module_version": "1.5.0",
            "_view_name": "HTMLView",
            "description": "",
            "description_tooltip": null,
            "layout": "IPY_MODEL_c2afe5d435464332a6ee01e4da4c9862",
            "placeholder": "​",
            "style": "IPY_MODEL_1850793168dc42b0947373159f5b1f6c",
            "value": " 28881/28881 [00:00&lt;00:00, 494774.72it/s]"
          }
        },
        "d1907f336dae4060b3c6dcad996b1ca9": {
          "model_module": "@jupyter-widgets/base",
          "model_name": "LayoutModel",
          "model_module_version": "1.2.0",
          "state": {
            "_model_module": "@jupyter-widgets/base",
            "_model_module_version": "1.2.0",
            "_model_name": "LayoutModel",
            "_view_count": null,
            "_view_module": "@jupyter-widgets/base",
            "_view_module_version": "1.2.0",
            "_view_name": "LayoutView",
            "align_content": null,
            "align_items": null,
            "align_self": null,
            "border": null,
            "bottom": null,
            "display": null,
            "flex": null,
            "flex_flow": null,
            "grid_area": null,
            "grid_auto_columns": null,
            "grid_auto_flow": null,
            "grid_auto_rows": null,
            "grid_column": null,
            "grid_gap": null,
            "grid_row": null,
            "grid_template_areas": null,
            "grid_template_columns": null,
            "grid_template_rows": null,
            "height": null,
            "justify_content": null,
            "justify_items": null,
            "left": null,
            "margin": null,
            "max_height": null,
            "max_width": null,
            "min_height": null,
            "min_width": null,
            "object_fit": null,
            "object_position": null,
            "order": null,
            "overflow": null,
            "overflow_x": null,
            "overflow_y": null,
            "padding": null,
            "right": null,
            "top": null,
            "visibility": null,
            "width": null
          }
        },
        "7acf6f63948d4a6b987aca4cd2982eb2": {
          "model_module": "@jupyter-widgets/base",
          "model_name": "LayoutModel",
          "model_module_version": "1.2.0",
          "state": {
            "_model_module": "@jupyter-widgets/base",
            "_model_module_version": "1.2.0",
            "_model_name": "LayoutModel",
            "_view_count": null,
            "_view_module": "@jupyter-widgets/base",
            "_view_module_version": "1.2.0",
            "_view_name": "LayoutView",
            "align_content": null,
            "align_items": null,
            "align_self": null,
            "border": null,
            "bottom": null,
            "display": null,
            "flex": null,
            "flex_flow": null,
            "grid_area": null,
            "grid_auto_columns": null,
            "grid_auto_flow": null,
            "grid_auto_rows": null,
            "grid_column": null,
            "grid_gap": null,
            "grid_row": null,
            "grid_template_areas": null,
            "grid_template_columns": null,
            "grid_template_rows": null,
            "height": null,
            "justify_content": null,
            "justify_items": null,
            "left": null,
            "margin": null,
            "max_height": null,
            "max_width": null,
            "min_height": null,
            "min_width": null,
            "object_fit": null,
            "object_position": null,
            "order": null,
            "overflow": null,
            "overflow_x": null,
            "overflow_y": null,
            "padding": null,
            "right": null,
            "top": null,
            "visibility": null,
            "width": null
          }
        },
        "4c9a4f9d7eb34eceafa1c5e5f06cf8f4": {
          "model_module": "@jupyter-widgets/controls",
          "model_name": "DescriptionStyleModel",
          "model_module_version": "1.5.0",
          "state": {
            "_model_module": "@jupyter-widgets/controls",
            "_model_module_version": "1.5.0",
            "_model_name": "DescriptionStyleModel",
            "_view_count": null,
            "_view_module": "@jupyter-widgets/base",
            "_view_module_version": "1.2.0",
            "_view_name": "StyleView",
            "description_width": ""
          }
        },
        "bd5437f4b9974cb3b07e5803aa419f04": {
          "model_module": "@jupyter-widgets/base",
          "model_name": "LayoutModel",
          "model_module_version": "1.2.0",
          "state": {
            "_model_module": "@jupyter-widgets/base",
            "_model_module_version": "1.2.0",
            "_model_name": "LayoutModel",
            "_view_count": null,
            "_view_module": "@jupyter-widgets/base",
            "_view_module_version": "1.2.0",
            "_view_name": "LayoutView",
            "align_content": null,
            "align_items": null,
            "align_self": null,
            "border": null,
            "bottom": null,
            "display": null,
            "flex": null,
            "flex_flow": null,
            "grid_area": null,
            "grid_auto_columns": null,
            "grid_auto_flow": null,
            "grid_auto_rows": null,
            "grid_column": null,
            "grid_gap": null,
            "grid_row": null,
            "grid_template_areas": null,
            "grid_template_columns": null,
            "grid_template_rows": null,
            "height": null,
            "justify_content": null,
            "justify_items": null,
            "left": null,
            "margin": null,
            "max_height": null,
            "max_width": null,
            "min_height": null,
            "min_width": null,
            "object_fit": null,
            "object_position": null,
            "order": null,
            "overflow": null,
            "overflow_x": null,
            "overflow_y": null,
            "padding": null,
            "right": null,
            "top": null,
            "visibility": null,
            "width": null
          }
        },
        "bdbece385a78438c90f738e99b6c4aea": {
          "model_module": "@jupyter-widgets/controls",
          "model_name": "ProgressStyleModel",
          "model_module_version": "1.5.0",
          "state": {
            "_model_module": "@jupyter-widgets/controls",
            "_model_module_version": "1.5.0",
            "_model_name": "ProgressStyleModel",
            "_view_count": null,
            "_view_module": "@jupyter-widgets/base",
            "_view_module_version": "1.2.0",
            "_view_name": "StyleView",
            "bar_color": null,
            "description_width": ""
          }
        },
        "c2afe5d435464332a6ee01e4da4c9862": {
          "model_module": "@jupyter-widgets/base",
          "model_name": "LayoutModel",
          "model_module_version": "1.2.0",
          "state": {
            "_model_module": "@jupyter-widgets/base",
            "_model_module_version": "1.2.0",
            "_model_name": "LayoutModel",
            "_view_count": null,
            "_view_module": "@jupyter-widgets/base",
            "_view_module_version": "1.2.0",
            "_view_name": "LayoutView",
            "align_content": null,
            "align_items": null,
            "align_self": null,
            "border": null,
            "bottom": null,
            "display": null,
            "flex": null,
            "flex_flow": null,
            "grid_area": null,
            "grid_auto_columns": null,
            "grid_auto_flow": null,
            "grid_auto_rows": null,
            "grid_column": null,
            "grid_gap": null,
            "grid_row": null,
            "grid_template_areas": null,
            "grid_template_columns": null,
            "grid_template_rows": null,
            "height": null,
            "justify_content": null,
            "justify_items": null,
            "left": null,
            "margin": null,
            "max_height": null,
            "max_width": null,
            "min_height": null,
            "min_width": null,
            "object_fit": null,
            "object_position": null,
            "order": null,
            "overflow": null,
            "overflow_x": null,
            "overflow_y": null,
            "padding": null,
            "right": null,
            "top": null,
            "visibility": null,
            "width": null
          }
        },
        "1850793168dc42b0947373159f5b1f6c": {
          "model_module": "@jupyter-widgets/controls",
          "model_name": "DescriptionStyleModel",
          "model_module_version": "1.5.0",
          "state": {
            "_model_module": "@jupyter-widgets/controls",
            "_model_module_version": "1.5.0",
            "_model_name": "DescriptionStyleModel",
            "_view_count": null,
            "_view_module": "@jupyter-widgets/base",
            "_view_module_version": "1.2.0",
            "_view_name": "StyleView",
            "description_width": ""
          }
        },
        "5e5636f0b2724f889b852760a3e1930a": {
          "model_module": "@jupyter-widgets/controls",
          "model_name": "HBoxModel",
          "model_module_version": "1.5.0",
          "state": {
            "_dom_classes": [],
            "_model_module": "@jupyter-widgets/controls",
            "_model_module_version": "1.5.0",
            "_model_name": "HBoxModel",
            "_view_count": null,
            "_view_module": "@jupyter-widgets/controls",
            "_view_module_version": "1.5.0",
            "_view_name": "HBoxView",
            "box_style": "",
            "children": [
              "IPY_MODEL_8f4c9b07b56c41dc94f7a30c19afe124",
              "IPY_MODEL_c68b53a5f56a4781863aeed468d0e7fa",
              "IPY_MODEL_9bdd83a819c94a7985dc9b978a25f0a4"
            ],
            "layout": "IPY_MODEL_29d589e262774065a460f542d071f01b"
          }
        },
        "8f4c9b07b56c41dc94f7a30c19afe124": {
          "model_module": "@jupyter-widgets/controls",
          "model_name": "HTMLModel",
          "model_module_version": "1.5.0",
          "state": {
            "_dom_classes": [],
            "_model_module": "@jupyter-widgets/controls",
            "_model_module_version": "1.5.0",
            "_model_name": "HTMLModel",
            "_view_count": null,
            "_view_module": "@jupyter-widgets/controls",
            "_view_module_version": "1.5.0",
            "_view_name": "HTMLView",
            "description": "",
            "description_tooltip": null,
            "layout": "IPY_MODEL_1c863099179a4aad99ab692b99c5d35b",
            "placeholder": "​",
            "style": "IPY_MODEL_9ace9806223b40d9b8d7cca003e532a9",
            "value": "100%"
          }
        },
        "c68b53a5f56a4781863aeed468d0e7fa": {
          "model_module": "@jupyter-widgets/controls",
          "model_name": "FloatProgressModel",
          "model_module_version": "1.5.0",
          "state": {
            "_dom_classes": [],
            "_model_module": "@jupyter-widgets/controls",
            "_model_module_version": "1.5.0",
            "_model_name": "FloatProgressModel",
            "_view_count": null,
            "_view_module": "@jupyter-widgets/controls",
            "_view_module_version": "1.5.0",
            "_view_name": "ProgressView",
            "bar_style": "success",
            "description": "",
            "description_tooltip": null,
            "layout": "IPY_MODEL_7d5d32ae8abd411e97ea45afe99f1b54",
            "max": 1648877,
            "min": 0,
            "orientation": "horizontal",
            "style": "IPY_MODEL_a8321573d30e4ac6abfbfbb4856c6881",
            "value": 1648877
          }
        },
        "9bdd83a819c94a7985dc9b978a25f0a4": {
          "model_module": "@jupyter-widgets/controls",
          "model_name": "HTMLModel",
          "model_module_version": "1.5.0",
          "state": {
            "_dom_classes": [],
            "_model_module": "@jupyter-widgets/controls",
            "_model_module_version": "1.5.0",
            "_model_name": "HTMLModel",
            "_view_count": null,
            "_view_module": "@jupyter-widgets/controls",
            "_view_module_version": "1.5.0",
            "_view_name": "HTMLView",
            "description": "",
            "description_tooltip": null,
            "layout": "IPY_MODEL_6013ff6bb7ea4def8c523e24e389ee26",
            "placeholder": "​",
            "style": "IPY_MODEL_8f6f95207bf54a66a820ebb2f52044c4",
            "value": " 1648877/1648877 [00:00&lt;00:00, 14999019.85it/s]"
          }
        },
        "29d589e262774065a460f542d071f01b": {
          "model_module": "@jupyter-widgets/base",
          "model_name": "LayoutModel",
          "model_module_version": "1.2.0",
          "state": {
            "_model_module": "@jupyter-widgets/base",
            "_model_module_version": "1.2.0",
            "_model_name": "LayoutModel",
            "_view_count": null,
            "_view_module": "@jupyter-widgets/base",
            "_view_module_version": "1.2.0",
            "_view_name": "LayoutView",
            "align_content": null,
            "align_items": null,
            "align_self": null,
            "border": null,
            "bottom": null,
            "display": null,
            "flex": null,
            "flex_flow": null,
            "grid_area": null,
            "grid_auto_columns": null,
            "grid_auto_flow": null,
            "grid_auto_rows": null,
            "grid_column": null,
            "grid_gap": null,
            "grid_row": null,
            "grid_template_areas": null,
            "grid_template_columns": null,
            "grid_template_rows": null,
            "height": null,
            "justify_content": null,
            "justify_items": null,
            "left": null,
            "margin": null,
            "max_height": null,
            "max_width": null,
            "min_height": null,
            "min_width": null,
            "object_fit": null,
            "object_position": null,
            "order": null,
            "overflow": null,
            "overflow_x": null,
            "overflow_y": null,
            "padding": null,
            "right": null,
            "top": null,
            "visibility": null,
            "width": null
          }
        },
        "1c863099179a4aad99ab692b99c5d35b": {
          "model_module": "@jupyter-widgets/base",
          "model_name": "LayoutModel",
          "model_module_version": "1.2.0",
          "state": {
            "_model_module": "@jupyter-widgets/base",
            "_model_module_version": "1.2.0",
            "_model_name": "LayoutModel",
            "_view_count": null,
            "_view_module": "@jupyter-widgets/base",
            "_view_module_version": "1.2.0",
            "_view_name": "LayoutView",
            "align_content": null,
            "align_items": null,
            "align_self": null,
            "border": null,
            "bottom": null,
            "display": null,
            "flex": null,
            "flex_flow": null,
            "grid_area": null,
            "grid_auto_columns": null,
            "grid_auto_flow": null,
            "grid_auto_rows": null,
            "grid_column": null,
            "grid_gap": null,
            "grid_row": null,
            "grid_template_areas": null,
            "grid_template_columns": null,
            "grid_template_rows": null,
            "height": null,
            "justify_content": null,
            "justify_items": null,
            "left": null,
            "margin": null,
            "max_height": null,
            "max_width": null,
            "min_height": null,
            "min_width": null,
            "object_fit": null,
            "object_position": null,
            "order": null,
            "overflow": null,
            "overflow_x": null,
            "overflow_y": null,
            "padding": null,
            "right": null,
            "top": null,
            "visibility": null,
            "width": null
          }
        },
        "9ace9806223b40d9b8d7cca003e532a9": {
          "model_module": "@jupyter-widgets/controls",
          "model_name": "DescriptionStyleModel",
          "model_module_version": "1.5.0",
          "state": {
            "_model_module": "@jupyter-widgets/controls",
            "_model_module_version": "1.5.0",
            "_model_name": "DescriptionStyleModel",
            "_view_count": null,
            "_view_module": "@jupyter-widgets/base",
            "_view_module_version": "1.2.0",
            "_view_name": "StyleView",
            "description_width": ""
          }
        },
        "7d5d32ae8abd411e97ea45afe99f1b54": {
          "model_module": "@jupyter-widgets/base",
          "model_name": "LayoutModel",
          "model_module_version": "1.2.0",
          "state": {
            "_model_module": "@jupyter-widgets/base",
            "_model_module_version": "1.2.0",
            "_model_name": "LayoutModel",
            "_view_count": null,
            "_view_module": "@jupyter-widgets/base",
            "_view_module_version": "1.2.0",
            "_view_name": "LayoutView",
            "align_content": null,
            "align_items": null,
            "align_self": null,
            "border": null,
            "bottom": null,
            "display": null,
            "flex": null,
            "flex_flow": null,
            "grid_area": null,
            "grid_auto_columns": null,
            "grid_auto_flow": null,
            "grid_auto_rows": null,
            "grid_column": null,
            "grid_gap": null,
            "grid_row": null,
            "grid_template_areas": null,
            "grid_template_columns": null,
            "grid_template_rows": null,
            "height": null,
            "justify_content": null,
            "justify_items": null,
            "left": null,
            "margin": null,
            "max_height": null,
            "max_width": null,
            "min_height": null,
            "min_width": null,
            "object_fit": null,
            "object_position": null,
            "order": null,
            "overflow": null,
            "overflow_x": null,
            "overflow_y": null,
            "padding": null,
            "right": null,
            "top": null,
            "visibility": null,
            "width": null
          }
        },
        "a8321573d30e4ac6abfbfbb4856c6881": {
          "model_module": "@jupyter-widgets/controls",
          "model_name": "ProgressStyleModel",
          "model_module_version": "1.5.0",
          "state": {
            "_model_module": "@jupyter-widgets/controls",
            "_model_module_version": "1.5.0",
            "_model_name": "ProgressStyleModel",
            "_view_count": null,
            "_view_module": "@jupyter-widgets/base",
            "_view_module_version": "1.2.0",
            "_view_name": "StyleView",
            "bar_color": null,
            "description_width": ""
          }
        },
        "6013ff6bb7ea4def8c523e24e389ee26": {
          "model_module": "@jupyter-widgets/base",
          "model_name": "LayoutModel",
          "model_module_version": "1.2.0",
          "state": {
            "_model_module": "@jupyter-widgets/base",
            "_model_module_version": "1.2.0",
            "_model_name": "LayoutModel",
            "_view_count": null,
            "_view_module": "@jupyter-widgets/base",
            "_view_module_version": "1.2.0",
            "_view_name": "LayoutView",
            "align_content": null,
            "align_items": null,
            "align_self": null,
            "border": null,
            "bottom": null,
            "display": null,
            "flex": null,
            "flex_flow": null,
            "grid_area": null,
            "grid_auto_columns": null,
            "grid_auto_flow": null,
            "grid_auto_rows": null,
            "grid_column": null,
            "grid_gap": null,
            "grid_row": null,
            "grid_template_areas": null,
            "grid_template_columns": null,
            "grid_template_rows": null,
            "height": null,
            "justify_content": null,
            "justify_items": null,
            "left": null,
            "margin": null,
            "max_height": null,
            "max_width": null,
            "min_height": null,
            "min_width": null,
            "object_fit": null,
            "object_position": null,
            "order": null,
            "overflow": null,
            "overflow_x": null,
            "overflow_y": null,
            "padding": null,
            "right": null,
            "top": null,
            "visibility": null,
            "width": null
          }
        },
        "8f6f95207bf54a66a820ebb2f52044c4": {
          "model_module": "@jupyter-widgets/controls",
          "model_name": "DescriptionStyleModel",
          "model_module_version": "1.5.0",
          "state": {
            "_model_module": "@jupyter-widgets/controls",
            "_model_module_version": "1.5.0",
            "_model_name": "DescriptionStyleModel",
            "_view_count": null,
            "_view_module": "@jupyter-widgets/base",
            "_view_module_version": "1.2.0",
            "_view_name": "StyleView",
            "description_width": ""
          }
        },
        "bc36272e198c4abc91fe3c758453774c": {
          "model_module": "@jupyter-widgets/controls",
          "model_name": "HBoxModel",
          "model_module_version": "1.5.0",
          "state": {
            "_dom_classes": [],
            "_model_module": "@jupyter-widgets/controls",
            "_model_module_version": "1.5.0",
            "_model_name": "HBoxModel",
            "_view_count": null,
            "_view_module": "@jupyter-widgets/controls",
            "_view_module_version": "1.5.0",
            "_view_name": "HBoxView",
            "box_style": "",
            "children": [
              "IPY_MODEL_04b3c71d3a034408a33ec46ec8932caf",
              "IPY_MODEL_02ac7468281a400190796643f9760d83",
              "IPY_MODEL_67ce606dcec2492cbee7f94c50e8df9a"
            ],
            "layout": "IPY_MODEL_5498d6825dc44810853a755966dd2c27"
          }
        },
        "04b3c71d3a034408a33ec46ec8932caf": {
          "model_module": "@jupyter-widgets/controls",
          "model_name": "HTMLModel",
          "model_module_version": "1.5.0",
          "state": {
            "_dom_classes": [],
            "_model_module": "@jupyter-widgets/controls",
            "_model_module_version": "1.5.0",
            "_model_name": "HTMLModel",
            "_view_count": null,
            "_view_module": "@jupyter-widgets/controls",
            "_view_module_version": "1.5.0",
            "_view_name": "HTMLView",
            "description": "",
            "description_tooltip": null,
            "layout": "IPY_MODEL_b1f61eb439e34d4bb7a8b330721301a3",
            "placeholder": "​",
            "style": "IPY_MODEL_0b1828512dea4c59bb96e0a8532ccdcb",
            "value": "100%"
          }
        },
        "02ac7468281a400190796643f9760d83": {
          "model_module": "@jupyter-widgets/controls",
          "model_name": "FloatProgressModel",
          "model_module_version": "1.5.0",
          "state": {
            "_dom_classes": [],
            "_model_module": "@jupyter-widgets/controls",
            "_model_module_version": "1.5.0",
            "_model_name": "FloatProgressModel",
            "_view_count": null,
            "_view_module": "@jupyter-widgets/controls",
            "_view_module_version": "1.5.0",
            "_view_name": "ProgressView",
            "bar_style": "success",
            "description": "",
            "description_tooltip": null,
            "layout": "IPY_MODEL_89f58b45adfd4714810917180c4cddc0",
            "max": 4542,
            "min": 0,
            "orientation": "horizontal",
            "style": "IPY_MODEL_d4cbe356fee04e0b8525a82b614e8156",
            "value": 4542
          }
        },
        "67ce606dcec2492cbee7f94c50e8df9a": {
          "model_module": "@jupyter-widgets/controls",
          "model_name": "HTMLModel",
          "model_module_version": "1.5.0",
          "state": {
            "_dom_classes": [],
            "_model_module": "@jupyter-widgets/controls",
            "_model_module_version": "1.5.0",
            "_model_name": "HTMLModel",
            "_view_count": null,
            "_view_module": "@jupyter-widgets/controls",
            "_view_module_version": "1.5.0",
            "_view_name": "HTMLView",
            "description": "",
            "description_tooltip": null,
            "layout": "IPY_MODEL_4092af4699b3451d9d2ab9c4251c5d93",
            "placeholder": "​",
            "style": "IPY_MODEL_7507b752d7ce4f468624ef628f07b799",
            "value": " 4542/4542 [00:00&lt;00:00, 312919.33it/s]"
          }
        },
        "5498d6825dc44810853a755966dd2c27": {
          "model_module": "@jupyter-widgets/base",
          "model_name": "LayoutModel",
          "model_module_version": "1.2.0",
          "state": {
            "_model_module": "@jupyter-widgets/base",
            "_model_module_version": "1.2.0",
            "_model_name": "LayoutModel",
            "_view_count": null,
            "_view_module": "@jupyter-widgets/base",
            "_view_module_version": "1.2.0",
            "_view_name": "LayoutView",
            "align_content": null,
            "align_items": null,
            "align_self": null,
            "border": null,
            "bottom": null,
            "display": null,
            "flex": null,
            "flex_flow": null,
            "grid_area": null,
            "grid_auto_columns": null,
            "grid_auto_flow": null,
            "grid_auto_rows": null,
            "grid_column": null,
            "grid_gap": null,
            "grid_row": null,
            "grid_template_areas": null,
            "grid_template_columns": null,
            "grid_template_rows": null,
            "height": null,
            "justify_content": null,
            "justify_items": null,
            "left": null,
            "margin": null,
            "max_height": null,
            "max_width": null,
            "min_height": null,
            "min_width": null,
            "object_fit": null,
            "object_position": null,
            "order": null,
            "overflow": null,
            "overflow_x": null,
            "overflow_y": null,
            "padding": null,
            "right": null,
            "top": null,
            "visibility": null,
            "width": null
          }
        },
        "b1f61eb439e34d4bb7a8b330721301a3": {
          "model_module": "@jupyter-widgets/base",
          "model_name": "LayoutModel",
          "model_module_version": "1.2.0",
          "state": {
            "_model_module": "@jupyter-widgets/base",
            "_model_module_version": "1.2.0",
            "_model_name": "LayoutModel",
            "_view_count": null,
            "_view_module": "@jupyter-widgets/base",
            "_view_module_version": "1.2.0",
            "_view_name": "LayoutView",
            "align_content": null,
            "align_items": null,
            "align_self": null,
            "border": null,
            "bottom": null,
            "display": null,
            "flex": null,
            "flex_flow": null,
            "grid_area": null,
            "grid_auto_columns": null,
            "grid_auto_flow": null,
            "grid_auto_rows": null,
            "grid_column": null,
            "grid_gap": null,
            "grid_row": null,
            "grid_template_areas": null,
            "grid_template_columns": null,
            "grid_template_rows": null,
            "height": null,
            "justify_content": null,
            "justify_items": null,
            "left": null,
            "margin": null,
            "max_height": null,
            "max_width": null,
            "min_height": null,
            "min_width": null,
            "object_fit": null,
            "object_position": null,
            "order": null,
            "overflow": null,
            "overflow_x": null,
            "overflow_y": null,
            "padding": null,
            "right": null,
            "top": null,
            "visibility": null,
            "width": null
          }
        },
        "0b1828512dea4c59bb96e0a8532ccdcb": {
          "model_module": "@jupyter-widgets/controls",
          "model_name": "DescriptionStyleModel",
          "model_module_version": "1.5.0",
          "state": {
            "_model_module": "@jupyter-widgets/controls",
            "_model_module_version": "1.5.0",
            "_model_name": "DescriptionStyleModel",
            "_view_count": null,
            "_view_module": "@jupyter-widgets/base",
            "_view_module_version": "1.2.0",
            "_view_name": "StyleView",
            "description_width": ""
          }
        },
        "89f58b45adfd4714810917180c4cddc0": {
          "model_module": "@jupyter-widgets/base",
          "model_name": "LayoutModel",
          "model_module_version": "1.2.0",
          "state": {
            "_model_module": "@jupyter-widgets/base",
            "_model_module_version": "1.2.0",
            "_model_name": "LayoutModel",
            "_view_count": null,
            "_view_module": "@jupyter-widgets/base",
            "_view_module_version": "1.2.0",
            "_view_name": "LayoutView",
            "align_content": null,
            "align_items": null,
            "align_self": null,
            "border": null,
            "bottom": null,
            "display": null,
            "flex": null,
            "flex_flow": null,
            "grid_area": null,
            "grid_auto_columns": null,
            "grid_auto_flow": null,
            "grid_auto_rows": null,
            "grid_column": null,
            "grid_gap": null,
            "grid_row": null,
            "grid_template_areas": null,
            "grid_template_columns": null,
            "grid_template_rows": null,
            "height": null,
            "justify_content": null,
            "justify_items": null,
            "left": null,
            "margin": null,
            "max_height": null,
            "max_width": null,
            "min_height": null,
            "min_width": null,
            "object_fit": null,
            "object_position": null,
            "order": null,
            "overflow": null,
            "overflow_x": null,
            "overflow_y": null,
            "padding": null,
            "right": null,
            "top": null,
            "visibility": null,
            "width": null
          }
        },
        "d4cbe356fee04e0b8525a82b614e8156": {
          "model_module": "@jupyter-widgets/controls",
          "model_name": "ProgressStyleModel",
          "model_module_version": "1.5.0",
          "state": {
            "_model_module": "@jupyter-widgets/controls",
            "_model_module_version": "1.5.0",
            "_model_name": "ProgressStyleModel",
            "_view_count": null,
            "_view_module": "@jupyter-widgets/base",
            "_view_module_version": "1.2.0",
            "_view_name": "StyleView",
            "bar_color": null,
            "description_width": ""
          }
        },
        "4092af4699b3451d9d2ab9c4251c5d93": {
          "model_module": "@jupyter-widgets/base",
          "model_name": "LayoutModel",
          "model_module_version": "1.2.0",
          "state": {
            "_model_module": "@jupyter-widgets/base",
            "_model_module_version": "1.2.0",
            "_model_name": "LayoutModel",
            "_view_count": null,
            "_view_module": "@jupyter-widgets/base",
            "_view_module_version": "1.2.0",
            "_view_name": "LayoutView",
            "align_content": null,
            "align_items": null,
            "align_self": null,
            "border": null,
            "bottom": null,
            "display": null,
            "flex": null,
            "flex_flow": null,
            "grid_area": null,
            "grid_auto_columns": null,
            "grid_auto_flow": null,
            "grid_auto_rows": null,
            "grid_column": null,
            "grid_gap": null,
            "grid_row": null,
            "grid_template_areas": null,
            "grid_template_columns": null,
            "grid_template_rows": null,
            "height": null,
            "justify_content": null,
            "justify_items": null,
            "left": null,
            "margin": null,
            "max_height": null,
            "max_width": null,
            "min_height": null,
            "min_width": null,
            "object_fit": null,
            "object_position": null,
            "order": null,
            "overflow": null,
            "overflow_x": null,
            "overflow_y": null,
            "padding": null,
            "right": null,
            "top": null,
            "visibility": null,
            "width": null
          }
        },
        "7507b752d7ce4f468624ef628f07b799": {
          "model_module": "@jupyter-widgets/controls",
          "model_name": "DescriptionStyleModel",
          "model_module_version": "1.5.0",
          "state": {
            "_model_module": "@jupyter-widgets/controls",
            "_model_module_version": "1.5.0",
            "_model_name": "DescriptionStyleModel",
            "_view_count": null,
            "_view_module": "@jupyter-widgets/base",
            "_view_module_version": "1.2.0",
            "_view_name": "StyleView",
            "description_width": ""
          }
        }
      }
    }
  },
  "cells": [
    {
      "cell_type": "markdown",
      "source": [
        "#code for compare base model, residual model, residual+bottenlock model"
      ],
      "metadata": {
        "id": "8rP39vNpvqVi"
      }
    },
    {
      "cell_type": "markdown",
      "source": [
        "#import module"
      ],
      "metadata": {
        "id": "4sDtj4VPdK5J"
      }
    },
    {
      "cell_type": "code",
      "source": [
        "import torch\n",
        "import torch.nn as nn\n",
        "import numpy as np\n",
        "import pandas as pd\n",
        "import tensorflow as tf\n",
        "import torchvision\n",
        "import torchvision.transforms as transforms\n",
        "\n",
        "# Check if GPU is available\n",
        "device = torch.device('cuda' if torch.cuda.is_available() else 'cpu')"
      ],
      "metadata": {
        "id": "viPvMI3QcMni"
      },
      "execution_count": 1,
      "outputs": []
    },
    {
      "cell_type": "markdown",
      "source": [
        "# three blocks for compare"
      ],
      "metadata": {
        "id": "6GDsG3dtdM66"
      }
    },
    {
      "cell_type": "code",
      "execution_count": 2,
      "metadata": {
        "id": "HmwXO0GjcFT8"
      },
      "outputs": [],
      "source": [
        "class Residual_Block(nn.Module):\n",
        "    def __init__(self, in_dim, mid_dim, out_dim):\n",
        "        super(Residual_Block,self).__init__()\n",
        "        # Residual Block\n",
        "        self.residual_block = nn.Sequential(\n",
        "                nn.Conv2d(in_dim, mid_dim, kernel_size=3, padding=1),\n",
        "                nn.ReLU(),\n",
        "                nn.Conv2d(mid_dim, out_dim, kernel_size=3, padding=1),\n",
        "            )            \n",
        "        self.relu = nn.ReLU()\n",
        "                  \n",
        "    def forward(self, x):\n",
        "        out = self. residual_block(x)  # F(x)\n",
        "        out = out + x  # F(x) + x\n",
        "        out = self.relu(out)\n",
        "        return out"
      ]
    },
    {
      "cell_type": "code",
      "source": [
        "class Residual_Block_with_bottenlock(nn.Module):\n",
        "    def __init__(self, in_dim, mid_dim, out_dim):\n",
        "        super(Residual_Block_with_bottenlock,self).__init__()\n",
        "        # Residual Block\n",
        "        self.residual_block = nn.Sequential(\n",
        "                nn.Conv2d(in_dim, mid_dim, kernel_size=1),\n",
        "                nn.ReLU(),\n",
        "                nn.Conv2d(mid_dim,mid_dim, kernel_size=3, padding=1),\n",
        "                #nn.ReLu(),\n",
        "                nn.Conv2d(mid_dim, out_dim, kernel_size=1),\n",
        "            )            \n",
        "        self.relu = nn.ReLU()\n",
        "\n",
        "    def forward(self, x):\n",
        "        out = self. residual_block(x)  # F(x)\n",
        "        out = out + x  # F(x) + x\n",
        "        out = self.relu(out)\n",
        "        return out"
      ],
      "metadata": {
        "id": "ac_MYQlTciL1"
      },
      "execution_count": 3,
      "outputs": []
    },
    {
      "cell_type": "code",
      "source": [
        "class Base_Block(nn.Module):\n",
        "    def __init__(self, in_dim, mid_dim, out_dim):\n",
        "        super(Base_Block,self).__init__()\n",
        "        # Residual Block\n",
        "        self.residual_block = nn.Sequential(\n",
        "                nn.Conv2d(in_dim, mid_dim, kernel_size=3, padding=1),\n",
        "                nn.ReLU(),\n",
        "                nn.Conv2d(mid_dim, out_dim, kernel_size=3, padding=1),\n",
        "            )            \n",
        "        self.relu = nn.ReLU()\n",
        "                  \n",
        "    def forward(self, x):\n",
        "        out = self. residual_block(x)  # F(x)\n",
        "        out = out  # F(x)\n",
        "        out = self.relu(out)\n",
        "        return out"
      ],
      "metadata": {
        "id": "SJFE_ZAKc-Xu"
      },
      "execution_count": 4,
      "outputs": []
    },
    {
      "cell_type": "markdown",
      "source": [
        "#build model"
      ],
      "metadata": {
        "id": "q7DrKnyOdP9T"
      }
    },
    {
      "cell_type": "code",
      "source": [
        "class Base_Model(nn.Module):\n",
        "  def __init__(self,selected_block='base'):\n",
        "    super(Base_Model,self).__init__()\n",
        "    self.selected_block = selected_block\n",
        "    if(self.selected_block==\"base\"):\n",
        "      self.layer1 = Base_Block(1,4,4) #28x28 ->28x28\n",
        "      self.layer2 = Base_Block(4,4,4) #14x14 -> 14x14\n",
        "      self.layer3 = Base_Block(4,4,4) #7x7 -> 7x7\n",
        "      self.layer4 = Base_Block(4,4,4) #3x3 -> 3x3\n",
        "    elif(self.selected_block=='residual'):\n",
        "      self.layer1 = Residual_Block(1,4,4)\n",
        "      self.layer2 = Residual_Block(4,4,4)\n",
        "      self.layer3 = Residual_Block(4,4,4)\n",
        "      self.layer4 = Residual_Block(4,4,4)\n",
        "    else:\n",
        "      self.layer1 = Residual_Block_with_bottenlock(1,4,4)\n",
        "      self.layer2 = Residual_Block_with_bottenlock(4,4,4)\n",
        "      self.layer3 = Residual_Block_with_bottenlock(4,4,4)\n",
        "      self.layer4 = Residual_Block_with_bottenlock(4,4,4)\n",
        "    \n",
        "    self.last_layer = nn.Linear(36,10)\n",
        "    \n",
        "  def forward(self, x):\n",
        "      out = self.layer1(x)\n",
        "      #print(out.size())\n",
        "      out = nn.AvgPool2d(2)(out)\n",
        "      #print(out.size())\n",
        "      out = self.layer2(out)\n",
        "      #print(out.size())\n",
        "      out = nn.AvgPool2d(2)(out)\n",
        "      #print(out.size())\n",
        "      out = self.layer3(out)\n",
        "      #print(out.size())\n",
        "      out = nn.AvgPool2d(2)(out)\n",
        "      #print(out.size())\n",
        "      out = self.layer4(out)\n",
        "      #print(out.size())\n",
        "      out = out.view(16,-1) #64 is batch_Size\n",
        "      out = self.last_layer(out)\n",
        "      return out"
      ],
      "metadata": {
        "id": "5_bTByTAdRX6"
      },
      "execution_count": 17,
      "outputs": []
    },
    {
      "cell_type": "markdown",
      "source": [
        "#load data"
      ],
      "metadata": {
        "id": "YWWUJHfFe_76"
      }
    },
    {
      "cell_type": "code",
      "source": [
        "transform = transforms.Compose(\n",
        "    [transforms.ToTensor(),\n",
        "     transforms.Normalize((0.5,), (0.5,))])"
      ],
      "metadata": {
        "id": "kUgZelIifBOi"
      },
      "execution_count": 6,
      "outputs": []
    },
    {
      "cell_type": "code",
      "source": [
        "trainset = torchvision.datasets.MNIST(root='./data', train=True,\n",
        "                                        download=True, transform=transform)\n",
        "trainloader = torch.utils.data.DataLoader(trainset, batch_size=16,\n",
        "                                          shuffle=True, num_workers=2)\n",
        "\n",
        "testset = torchvision.datasets.MNIST(root='./data', train=False,\n",
        "                                       download=True, transform=transform)\n",
        "testloader = torch.utils.data.DataLoader(testset, batch_size=16,\n",
        "                                         shuffle=False, num_workers=2)"
      ],
      "metadata": {
        "id": "tAhkPb3hg-XZ",
        "colab": {
          "base_uri": "https://localhost:8080/",
          "height": 0,
          "referenced_widgets": [
            "3f1869de58bf472090c930570b12b4d1",
            "51c2b7cd7c64447896ccdb6b76720730",
            "b0310c78e68847dca396964e807165dd",
            "970361faf88e468d963e2f2a58ab5e2c",
            "c04e39e732914646aca2635499d3202e",
            "daa28e57e0734535b05c7dd1cd958cd2",
            "b700783cc42740e8b89cca116789231b",
            "272d7cdfebeb49f196b6a90545c99ad9",
            "4ab29798bfad45739cc220ebb3613ee9",
            "d598ce5d4b444708a68253f1a2e92459",
            "1a1722b3b196499c81563c8194ca52c3",
            "ff88e009b85743409a18e40eb9d2d3ce",
            "0f92b550d66a49809b6df78859555050",
            "61a9268a561f446195d449013017ff31",
            "3418c4459f2b448d890ab72854ae8b24",
            "d1907f336dae4060b3c6dcad996b1ca9",
            "7acf6f63948d4a6b987aca4cd2982eb2",
            "4c9a4f9d7eb34eceafa1c5e5f06cf8f4",
            "bd5437f4b9974cb3b07e5803aa419f04",
            "bdbece385a78438c90f738e99b6c4aea",
            "c2afe5d435464332a6ee01e4da4c9862",
            "1850793168dc42b0947373159f5b1f6c",
            "5e5636f0b2724f889b852760a3e1930a",
            "8f4c9b07b56c41dc94f7a30c19afe124",
            "c68b53a5f56a4781863aeed468d0e7fa",
            "9bdd83a819c94a7985dc9b978a25f0a4",
            "29d589e262774065a460f542d071f01b",
            "1c863099179a4aad99ab692b99c5d35b",
            "9ace9806223b40d9b8d7cca003e532a9",
            "7d5d32ae8abd411e97ea45afe99f1b54",
            "a8321573d30e4ac6abfbfbb4856c6881",
            "6013ff6bb7ea4def8c523e24e389ee26",
            "8f6f95207bf54a66a820ebb2f52044c4",
            "bc36272e198c4abc91fe3c758453774c",
            "04b3c71d3a034408a33ec46ec8932caf",
            "02ac7468281a400190796643f9760d83",
            "67ce606dcec2492cbee7f94c50e8df9a",
            "5498d6825dc44810853a755966dd2c27",
            "b1f61eb439e34d4bb7a8b330721301a3",
            "0b1828512dea4c59bb96e0a8532ccdcb",
            "89f58b45adfd4714810917180c4cddc0",
            "d4cbe356fee04e0b8525a82b614e8156",
            "4092af4699b3451d9d2ab9c4251c5d93",
            "7507b752d7ce4f468624ef628f07b799"
          ]
        },
        "outputId": "ccb6a415-4a44-4246-c4d2-c3406d030699"
      },
      "execution_count": 7,
      "outputs": [
        {
          "output_type": "stream",
          "name": "stdout",
          "text": [
            "Downloading http://yann.lecun.com/exdb/mnist/train-images-idx3-ubyte.gz\n",
            "Downloading http://yann.lecun.com/exdb/mnist/train-images-idx3-ubyte.gz to ./data/MNIST/raw/train-images-idx3-ubyte.gz\n"
          ]
        },
        {
          "output_type": "display_data",
          "data": {
            "text/plain": [
              "  0%|          | 0/9912422 [00:00<?, ?it/s]"
            ],
            "application/vnd.jupyter.widget-view+json": {
              "version_major": 2,
              "version_minor": 0,
              "model_id": "3f1869de58bf472090c930570b12b4d1"
            }
          },
          "metadata": {}
        },
        {
          "output_type": "stream",
          "name": "stdout",
          "text": [
            "Extracting ./data/MNIST/raw/train-images-idx3-ubyte.gz to ./data/MNIST/raw\n",
            "\n",
            "Downloading http://yann.lecun.com/exdb/mnist/train-labels-idx1-ubyte.gz\n",
            "Downloading http://yann.lecun.com/exdb/mnist/train-labels-idx1-ubyte.gz to ./data/MNIST/raw/train-labels-idx1-ubyte.gz\n"
          ]
        },
        {
          "output_type": "display_data",
          "data": {
            "text/plain": [
              "  0%|          | 0/28881 [00:00<?, ?it/s]"
            ],
            "application/vnd.jupyter.widget-view+json": {
              "version_major": 2,
              "version_minor": 0,
              "model_id": "ff88e009b85743409a18e40eb9d2d3ce"
            }
          },
          "metadata": {}
        },
        {
          "output_type": "stream",
          "name": "stdout",
          "text": [
            "Extracting ./data/MNIST/raw/train-labels-idx1-ubyte.gz to ./data/MNIST/raw\n",
            "\n",
            "Downloading http://yann.lecun.com/exdb/mnist/t10k-images-idx3-ubyte.gz\n",
            "Downloading http://yann.lecun.com/exdb/mnist/t10k-images-idx3-ubyte.gz to ./data/MNIST/raw/t10k-images-idx3-ubyte.gz\n"
          ]
        },
        {
          "output_type": "display_data",
          "data": {
            "text/plain": [
              "  0%|          | 0/1648877 [00:00<?, ?it/s]"
            ],
            "application/vnd.jupyter.widget-view+json": {
              "version_major": 2,
              "version_minor": 0,
              "model_id": "5e5636f0b2724f889b852760a3e1930a"
            }
          },
          "metadata": {}
        },
        {
          "output_type": "stream",
          "name": "stdout",
          "text": [
            "Extracting ./data/MNIST/raw/t10k-images-idx3-ubyte.gz to ./data/MNIST/raw\n",
            "\n",
            "Downloading http://yann.lecun.com/exdb/mnist/t10k-labels-idx1-ubyte.gz\n",
            "Downloading http://yann.lecun.com/exdb/mnist/t10k-labels-idx1-ubyte.gz to ./data/MNIST/raw/t10k-labels-idx1-ubyte.gz\n"
          ]
        },
        {
          "output_type": "display_data",
          "data": {
            "text/plain": [
              "  0%|          | 0/4542 [00:00<?, ?it/s]"
            ],
            "application/vnd.jupyter.widget-view+json": {
              "version_major": 2,
              "version_minor": 0,
              "model_id": "bc36272e198c4abc91fe3c758453774c"
            }
          },
          "metadata": {}
        },
        {
          "output_type": "stream",
          "name": "stdout",
          "text": [
            "Extracting ./data/MNIST/raw/t10k-labels-idx1-ubyte.gz to ./data/MNIST/raw\n",
            "\n"
          ]
        }
      ]
    },
    {
      "cell_type": "markdown",
      "source": [
        "#see result"
      ],
      "metadata": {
        "id": "3C0E_6E0t5MH"
      }
    },
    {
      "cell_type": "code",
      "source": [
        "def eval_model(model,criterion,optimizer):\n",
        "  num_epochs=5\n",
        "  for epoch in range(num_epochs):\n",
        "      # Train the model for one epoch\n",
        "      model.train()\n",
        "      train_loss = 0.0\n",
        "      train_correct = 0\n",
        "      train_total = 0\n",
        "      for inputs, labels in trainloader:\n",
        "          inputs, labels = inputs.to(device), labels.to(device)\n",
        "          optimizer.zero_grad()\n",
        "          outputs = model(inputs)\n",
        "          loss = criterion(outputs, labels)\n",
        "          loss.backward()\n",
        "          optimizer.step()\n",
        "\n",
        "          # Update the training loss and accuracy\n",
        "          train_loss += loss.item() * inputs.size(0)\n",
        "          _, predicted = torch.max(outputs.data, 1)\n",
        "          train_correct += (predicted == labels).sum().item()\n",
        "          train_total += labels.size(0)\n",
        "\n",
        "      # Compute the validation accuracy\n",
        "      model.eval()\n",
        "      val_correct = 0\n",
        "      val_total = 0\n",
        "      with torch.no_grad():\n",
        "          for inputs, labels in testloader:\n",
        "              inputs, labels = inputs.to(device), labels.to(device)\n",
        "              outputs = model(inputs)\n",
        "              _, predicted = torch.max(outputs.data, 1)\n",
        "              val_correct += (predicted == labels).sum().item()\n",
        "              val_total += labels.size(0)\n",
        "      val_acc = val_correct / val_total\n",
        "\n",
        "      # Print the training loss and validation accuracy for this epoch\n",
        "      train_loss = train_loss / len(trainloader.dataset)\n",
        "      train_acc = train_correct / train_total\n",
        "      print(f'Epoch {epoch+1}/{num_epochs}: Train Loss: {train_loss:.4f} Train Acc: {train_acc:.4f} Val Acc: {val_acc:.4f}')"
      ],
      "metadata": {
        "id": "GaWYjHLQiub5"
      },
      "execution_count": 16,
      "outputs": []
    },
    {
      "cell_type": "code",
      "source": [
        "import time\n",
        "model = Base_Model('base').to(device)\n",
        "criterion = torch.nn.CrossEntropyLoss()\n",
        "optimizer = torch.optim.SGD(model.parameters(), lr=0.001, momentum=0.9)\n",
        "\n",
        "start = time.time()\n",
        "eval_model(model,criterion,optimizer)\n",
        "fin = time.time()\n",
        "print(f\"total time: {fin-start:.2f} second\")"
      ],
      "metadata": {
        "colab": {
          "base_uri": "https://localhost:8080/"
        },
        "id": "GsbUJvMXprN2",
        "outputId": "1ecd352b-f534-4f88-ad87-e3b9d5a5f9a9"
      },
      "execution_count": null,
      "outputs": [
        {
          "output_type": "stream",
          "name": "stdout",
          "text": [
            "Epoch 1/5: Train Loss: 2.3018 Train Acc: 0.1114 Val Acc: 0.1135\n",
            "Epoch 2/5: Train Loss: 2.3014 Train Acc: 0.1124 Val Acc: 0.1135\n",
            "Epoch 3/5: Train Loss: 2.3014 Train Acc: 0.1124 Val Acc: 0.1135\n",
            "Epoch 4/5: Train Loss: 2.3014 Train Acc: 0.1124 Val Acc: 0.1135\n",
            "Epoch 5/5: Train Loss: 2.3013 Train Acc: 0.1124 Val Acc: 0.1135\n",
            "total time: 205.11 second\n"
          ]
        }
      ]
    },
    {
      "cell_type": "code",
      "source": [
        "import time\n",
        "model = Base_Model('residual').to(device)\n",
        "criterion = torch.nn.CrossEntropyLoss()\n",
        "optimizer = torch.optim.SGD(model.parameters(), lr=0.001, momentum=0.9)\n",
        "\n",
        "start = time.time()\n",
        "eval_model(model,criterion,optimizer)\n",
        "fin = time.time()\n",
        "print(f\"total time: {fin-start:.2f} second\")"
      ],
      "metadata": {
        "colab": {
          "base_uri": "https://localhost:8080/"
        },
        "id": "_WevSv99onms",
        "outputId": "0ffec8ab-033e-442f-b1df-deb7a6473435"
      },
      "execution_count": null,
      "outputs": [
        {
          "output_type": "stream",
          "name": "stdout",
          "text": [
            "Epoch 1/5: Train Loss: 0.9464 Train Acc: 0.6869 Val Acc: 0.9262\n",
            "Epoch 2/5: Train Loss: 0.2057 Train Acc: 0.9369 Val Acc: 0.9536\n",
            "Epoch 3/5: Train Loss: 0.1421 Train Acc: 0.9563 Val Acc: 0.9639\n",
            "Epoch 4/5: Train Loss: 0.1120 Train Acc: 0.9647 Val Acc: 0.9683\n",
            "Epoch 5/5: Train Loss: 0.0995 Train Acc: 0.9684 Val Acc: 0.9742\n",
            "total time: 211.52 second\n"
          ]
        }
      ]
    },
    {
      "cell_type": "code",
      "source": [
        "import time\n",
        "model = Base_Model('residual_with_bottenlock').to(device)\n",
        "criterion = torch.nn.CrossEntropyLoss()\n",
        "optimizer = torch.optim.SGD(model.parameters(), lr=0.001, momentum=0.9)\n",
        "\n",
        "start = time.time()\n",
        "eval_model(model,criterion,optimizer)\n",
        "fin = time.time()\n",
        "print(f\"total time: {fin-start:.2f} second\")"
      ],
      "metadata": {
        "colab": {
          "base_uri": "https://localhost:8080/"
        },
        "id": "8BJV6AHPpwsp",
        "outputId": "87ef3ddc-ba32-43e4-c805-bfcd732dd494"
      },
      "execution_count": null,
      "outputs": [
        {
          "output_type": "stream",
          "name": "stdout",
          "text": [
            "Epoch 1/5: Train Loss: 1.1405 Train Acc: 0.6259 Val Acc: 0.8550\n",
            "Epoch 2/5: Train Loss: 0.4335 Train Acc: 0.8647 Val Acc: 0.8951\n",
            "Epoch 3/5: Train Loss: 0.3531 Train Acc: 0.8928 Val Acc: 0.9051\n",
            "Epoch 4/5: Train Loss: 0.3136 Train Acc: 0.9019 Val Acc: 0.9034\n",
            "Epoch 5/5: Train Loss: 0.2917 Train Acc: 0.9077 Val Acc: 0.9148\n",
            "total time: 223.22 second\n"
          ]
        }
      ]
    },
    {
      "cell_type": "code",
      "source": [
        "model = Base_Model('base').to(device)\n",
        "num_params = sum(p.numel() for p in model.parameters())\n",
        "print(f\"Number of parameters: {num_params}\")"
      ],
      "metadata": {
        "colab": {
          "base_uri": "https://localhost:8080/"
        },
        "id": "Kt3iIN9Su8nV",
        "outputId": "9975804e-962a-4914-935c-fe6444247ec5"
      },
      "execution_count": null,
      "outputs": [
        {
          "output_type": "stream",
          "name": "stdout",
          "text": [
            "Number of parameters: 1446\n"
          ]
        }
      ]
    },
    {
      "cell_type": "code",
      "source": [
        "model = Base_Model('residual').to(device)\n",
        "num_params = sum(p.numel() for p in model.parameters())\n",
        "print(f\"Number of parameters: {num_params}\")"
      ],
      "metadata": {
        "colab": {
          "base_uri": "https://localhost:8080/"
        },
        "id": "U_hDDHwNu92O",
        "outputId": "770a5665-7a3b-4966-f631-b8ccf7911d8d"
      },
      "execution_count": null,
      "outputs": [
        {
          "output_type": "stream",
          "name": "stdout",
          "text": [
            "Number of parameters: 1446\n"
          ]
        }
      ]
    },
    {
      "cell_type": "code",
      "source": [
        "model = Base_Model('residual_with_bottenlock').to(device)\n",
        "num_params = sum(p.numel() for p in model.parameters())\n",
        "print(f\"Number of parameters: {num_params}\")"
      ],
      "metadata": {
        "colab": {
          "base_uri": "https://localhost:8080/"
        },
        "id": "jnS9HxWBuuh2",
        "outputId": "a03734ca-08c8-481a-b22b-67d59331d45e"
      },
      "execution_count": null,
      "outputs": [
        {
          "output_type": "stream",
          "name": "stdout",
          "text": [
            "Number of parameters: 1110\n"
          ]
        }
      ]
    },
    {
      "cell_type": "markdown",
      "source": [
        "residual구조가 없는 base model은 8개라는 적은 층에도 불구하고 학습이 이루어지지 않음."
      ],
      "metadata": {
        "id": "QpIxMbJMvzOM"
      }
    },
    {
      "cell_type": "markdown",
      "source": [
        "모델이 작기 때문에 bottenlock 구조와 residual구조의 파라미터 개수 차이가 적어 유의미한 속도 차이가 없는 것으로 보임"
      ],
      "metadata": {
        "id": "875zYruGvFE1"
      }
    },
    {
      "cell_type": "markdown",
      "source": [
        "#additional research"
      ],
      "metadata": {
        "id": "3x-092BOzKwZ"
      }
    },
    {
      "cell_type": "markdown",
      "source": [
        "https://arxiv.org/abs/1605.06431\n",
        "\n",
        "Residual Networks Behave Like Ensembles of Relatively Shallow Networks\n",
        "\n",
        "resnet의 residual block들이 앙상블처럼 활동한다는 논문이 있어 직접 실험해봄.\n",
        "가장 처음 layer1을 제외한, layer2,3,4들을 하나씩 빼보면서 val_score을 구해보았다."
      ],
      "metadata": {
        "id": "fGQ15wIb8Cjn"
      }
    },
    {
      "cell_type": "code",
      "source": [
        "#model.forward를 override하기 위한 새로운 forward생성성\n",
        "def dropout_forward(self, x, skip_layers=[False, False, False]):\n",
        "      out = self.layer1(x)\n",
        "      out = nn.AvgPool2d(2)(out)\n",
        "\n",
        "      if not skip_layers[0]:\n",
        "          out = self.layer2(out)\n",
        "      out = nn.AvgPool2d(2)(out)\n",
        "      \n",
        "      if not skip_layers[1]:\n",
        "          out = self.layer3(out)\n",
        "      out = nn.AvgPool2d(2)(out)\n",
        "      \n",
        "      if not skip_layers[2]:\n",
        "          out = self.layer4(out)\n",
        "      \n",
        "      out = out.view(16,-1)\n",
        "      out = self.last_layer(out)\n",
        "      return out"
      ],
      "metadata": {
        "id": "NkeEzFQg2ywy"
      },
      "execution_count": 32,
      "outputs": []
    },
    {
      "cell_type": "code",
      "source": [
        "#val_accuracy만 구하는 함수 작성\n",
        "def dropout_eval(model,skip_layers):\n",
        "      model.eval()\n",
        "      val_correct = 0\n",
        "      val_total = 0\n",
        "      with torch.no_grad():\n",
        "          for inputs, labels in testloader:\n",
        "              inputs, labels = inputs.to(device), labels.to(device)\n",
        "              outputs = model(inputs,skip_layers)\n",
        "              _, predicted = torch.max(outputs.data, 1)\n",
        "              val_correct += (predicted == labels).sum().item()\n",
        "              val_total += labels.size(0)\n",
        "      val_acc = val_correct / val_total\n",
        "      print(f' Val Acc: {val_acc:.4f}')"
      ],
      "metadata": {
        "id": "fcGR3iQK3wu3"
      },
      "execution_count": 21,
      "outputs": []
    },
    {
      "cell_type": "code",
      "source": [
        "#base_model을 일단 학습\n",
        "import time\n",
        "model = Base_Model('residual').to(device)\n",
        "criterion = torch.nn.CrossEntropyLoss()\n",
        "optimizer = torch.optim.SGD(model.parameters(), lr=0.001, momentum=0.9)\n",
        "\n",
        "start = time.time()\n",
        "eval_model(model,criterion,optimizer)\n",
        "fin = time.time()\n",
        "print(f\"total time: {fin-start:.2f} second\")"
      ],
      "metadata": {
        "colab": {
          "base_uri": "https://localhost:8080/"
        },
        "id": "A0pOsb1pzOS-",
        "outputId": "ea9cecc3-9d27-4339-b091-2d346b4e3158"
      },
      "execution_count": 20,
      "outputs": [
        {
          "output_type": "stream",
          "name": "stdout",
          "text": [
            "Epoch 1/5: Train Loss: 0.9350 Train Acc: 0.6996 Val Acc: 0.9141\n",
            "Epoch 2/5: Train Loss: 0.2130 Train Acc: 0.9359 Val Acc: 0.9350\n",
            "Epoch 3/5: Train Loss: 0.1573 Train Acc: 0.9533 Val Acc: 0.9618\n",
            "Epoch 4/5: Train Loss: 0.1321 Train Acc: 0.9604 Val Acc: 0.9635\n",
            "Epoch 5/5: Train Loss: 0.1138 Train Acc: 0.9659 Val Acc: 0.9673\n",
            "total time: 223.30 second\n"
          ]
        }
      ]
    },
    {
      "cell_type": "code",
      "source": [
        "#override model.forward\n",
        "model.forward = dropout_forward.__get__(model,Base_Model)"
      ],
      "metadata": {
        "id": "jpBhucPKzW7n"
      },
      "execution_count": 34,
      "outputs": []
    },
    {
      "cell_type": "code",
      "source": [
        "#정상적으로 override되었는지 확인\n",
        "dropout_eval(model,skip_layers=[False,False,False])"
      ],
      "metadata": {
        "colab": {
          "base_uri": "https://localhost:8080/"
        },
        "id": "BHZBwlDy6FJg",
        "outputId": "9bad1ab1-f529-4628-ca36-bccf26595135"
      },
      "execution_count": 37,
      "outputs": [
        {
          "output_type": "stream",
          "name": "stdout",
          "text": [
            " Val Acc: 0.9673\n"
          ]
        }
      ]
    },
    {
      "cell_type": "code",
      "source": [
        "#layers를 하나씩 빼봄\n",
        "dropout_eval(model,skip_layers=[True,False,False])\n",
        "dropout_eval(model,skip_layers=[False,True,False])\n",
        "dropout_eval(model,skip_layers=[False,False,True])"
      ],
      "metadata": {
        "colab": {
          "base_uri": "https://localhost:8080/"
        },
        "id": "lYhz1xmN83Oa",
        "outputId": "a8e31512-0eab-424f-b871-b4f6cc77140f"
      },
      "execution_count": 38,
      "outputs": [
        {
          "output_type": "stream",
          "name": "stdout",
          "text": [
            " Val Acc: 0.6217\n",
            " Val Acc: 0.5639\n",
            " Val Acc: 0.9345\n"
          ]
        }
      ]
    },
    {
      "cell_type": "code",
      "source": [
        "#layer를 2개 뺀다면?\n",
        "dropout_eval(model,skip_layers=[True,True,False])\n",
        "dropout_eval(model,skip_layers=[False,True,True])\n",
        "dropout_eval(model,skip_layers=[True,False,True])"
      ],
      "metadata": {
        "colab": {
          "base_uri": "https://localhost:8080/"
        },
        "id": "twrU4VGJ87eU",
        "outputId": "52a30256-2971-4784-e943-9730ccff4853"
      },
      "execution_count": 39,
      "outputs": [
        {
          "output_type": "stream",
          "name": "stdout",
          "text": [
            " Val Acc: 0.2357\n",
            " Val Acc: 0.4983\n",
            " Val Acc: 0.5913\n"
          ]
        }
      ]
    },
    {
      "cell_type": "code",
      "source": [
        "#다 빼버린다면..?\n",
        "dropout_eval(model,skip_layers=[True,True,True])"
      ],
      "metadata": {
        "colab": {
          "base_uri": "https://localhost:8080/"
        },
        "id": "wivbL3o79ODI",
        "outputId": "a709cc1a-4da2-4e48-c75d-51153a64c8c9"
      },
      "execution_count": 40,
      "outputs": [
        {
          "output_type": "stream",
          "name": "stdout",
          "text": [
            " Val Acc: 0.2245\n"
          ]
        }
      ]
    },
    {
      "cell_type": "markdown",
      "source": [
        "층의 개수가 적어 생각보다 유의미한 결과는 내지 못함"
      ],
      "metadata": {
        "id": "GCJrQb6F94x_"
      }
    }
  ]
}